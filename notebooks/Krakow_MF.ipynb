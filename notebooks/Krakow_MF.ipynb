{
 "cells": [
  {
   "cell_type": "markdown",
   "id": "18694d7f-91b5-4bec-8cad-d3f8d5182e5d",
   "metadata": {
    "tags": []
   },
   "source": [
    "# Bayesian NMF\n",
    "\n",
    "We will try to set up a MF workflow for the AMS data for Krakow, first we define our matrix factorization model, coming from the PyMC documentation. Notice that here `PMF` refers to Probabilistic Matrix Factorization instead of Positive Matrix Factorization as known in the air quality literature"
   ]
  },
  {
   "cell_type": "code",
   "execution_count": 1,
   "id": "1481f4ab-b04a-4b71-9a95-9da4922f6515",
   "metadata": {},
   "outputs": [
    {
     "name": "stdout",
     "output_type": "stream",
     "text": [
      "Running on PyMC3 v3.11.4\n"
     ]
    }
   ],
   "source": [
    "import logging\n",
    "import time\n",
    "\n",
    "import scipy as sp\n",
    "import theano\n",
    "import pandas as pd\n",
    "import numpy as np\n",
    "import pymc3 as pm\n",
    "\n",
    "from matplotlib import pyplot as plt\n",
    "\n",
    "plt.style.use(\"seaborn-darkgrid\")\n",
    "print(f\"Running on PyMC3 v{pm.__version__}\")"
   ]
  },
  {
   "cell_type": "markdown",
   "source": [
    "## Data loading"
   ],
   "metadata": {
    "collapsed": false,
    "pycharm": {
     "name": "#%% md\n"
    }
   }
  },
  {
   "cell_type": "markdown",
   "source": [
    "We load the original Krakow data in format itx, we resample at different resolutions"
   ],
   "metadata": {
    "collapsed": false
   }
  },
  {
   "cell_type": "code",
   "execution_count": 4,
   "outputs": [],
   "source": [
    "from src.python.aurora_py.itx_adapter import ItxAdapter\n",
    "\n",
    "with open(\"../data/observations/KRK_input_10min.itx\",\"r\") as file:\n",
    "    itx_adapter = ItxAdapter(file.read())\n",
    "\n",
    "krakow_df = itx_adapter.to_pandas()\n",
    "krakow_df.drop([12.0,37.0],axis=1,inplace=True)\n",
    "\n",
    "krakow_df_30min = krakow_df.resample(\"30min\").mean()\n",
    "krakow_df_1h = krakow_df.resample(\"1H\").mean()\n",
    "krakow_df_1d = krakow_df.resample(\"1D\").mean()"
   ],
   "metadata": {
    "collapsed": false,
    "pycharm": {
     "name": "#%%\n"
    }
   }
  },
  {
   "cell_type": "markdown",
   "source": [
    "## Non-negative matrix factorization model\n"
   ],
   "metadata": {
    "collapsed": false,
    "pycharm": {
     "name": "#%% md\n"
    }
   }
  },
  {
   "cell_type": "code",
   "execution_count": 3,
   "id": "8b0eda9d-2f93-4ecc-89d4-1bb99b8044d4",
   "metadata": {},
   "outputs": [],
   "source": [
    "# Enable on-the-fly graph computations, but ignore\n",
    "# absence of intermediate test values.\n",
    "theano.config.compute_test_value = \"ignore\"\n",
    "\n",
    "# Set up logging.\n",
    "logger = logging.getLogger()\n",
    "logger.setLevel(logging.INFO)\n",
    "\n",
    "\n",
    "class PMF:\n",
    "    \"\"\"Probabilistic Matrix Factorization model using pymc3.\"\"\"\n",
    "\n",
    "    def __init__(self, train, dim, alpha=2):\n",
    "        \"\"\"Build the Probabilistic Matrix Factorization model using pymc3.\n",
    "\n",
    "        :param np.ndarray train: The training data to use for learning the model.\n",
    "        :param int dim: Dimensionality of the model; number of latent factors.\n",
    "        :param int alpha: Fixed precision for the likelihood function.\n",
    "        \"\"\"\n",
    "        self.dim = dim\n",
    "        self.alpha = alpha\n",
    "        self.std = np.sqrt(1.0 / alpha)\n",
    "        self.data = train.copy()\n",
    "        n, m = self.data.shape\n",
    "\n",
    "        # Perform mean value imputation\n",
    "        nan_mask = np.isnan(self.data)\n",
    "        self.data[nan_mask] = self.data[~nan_mask].mean()\n",
    "\n",
    "        # Set to the mean variance across users and items.\n",
    "        self.alpha_u = 1 / self.data.var(axis=1).mean()\n",
    "        self.alpha_v = 1 / self.data.var(axis=0).mean()\n",
    "\n",
    "        # Specify the model.\n",
    "        logging.info(\"building the PMF model\")\n",
    "        with pm.Model() as pmf:\n",
    "            PositiveNormal = pm.Bound(pm.Normal, lower=0.0)\n",
    "            U = PositiveNormal(\n",
    "                \"U\",\n",
    "                mu=0,\n",
    "                tau=self.alpha_u,\n",
    "                shape=(n, dim)\n",
    "            )\n",
    "            V = PositiveNormal(\n",
    "                \"V\",\n",
    "                mu=0,\n",
    "                tau=self.alpha_v,\n",
    "                shape=(m, dim)\n",
    "            )\n",
    "            R = pm.Normal(\n",
    "                \"R\", mu=(U @ V.T)[~nan_mask], tau=self.alpha, observed=self.data[~nan_mask]\n",
    "            )\n",
    "\n",
    "\n",
    "        logging.info(\"done building the PMF model\")\n",
    "        self.model = pmf\n",
    "\n",
    "    def __str__(self):\n",
    "        return self.name\n",
    "\n",
    "    def _find_map(self):\n",
    "        \"\"\"Find mode of posterior using L-BFGS-B optimization.\"\"\"\n",
    "        tstart = time.time()\n",
    "        with self.model:\n",
    "            logging.info(\"finding PMF MAP using L-BFGS-B optimization...\")\n",
    "            self._map = pm.find_MAP(method=\"L-BFGS-B\")\n",
    "\n",
    "        elapsed = int(time.time() - tstart)\n",
    "        logging.info(\"found PMF MAP in %d seconds\" % elapsed)\n",
    "        return self._map\n",
    "\n",
    "    @property\n",
    "    def map(self):\n",
    "        try:\n",
    "            return self._map\n",
    "        except:\n",
    "            return self._find_map()\n",
    "\n",
    "    # Draw MCMC samples.\n",
    "    def _draw_samples(self):\n",
    "        with self.model:\n",
    "            self._trace = pm.sample(chains=4)\n",
    "\n",
    "    @property\n",
    "    def trace(self):\n",
    "        try:\n",
    "            return self._trace\n",
    "        except:\n",
    "            return self._draw_samples()\n",
    "\n",
    "\n",
    "    def _posterior_predicive(self):\n",
    "        with self.model:\n",
    "            self._ppc = pm.sample_posterior_predictive(self.trace, var_names=[\"R\"])\n",
    "\n",
    "    @property\n",
    "    def ppc(self):\n",
    "        return self._ppc\n",
    "\n",
    "# Define our evaluation function.\n",
    "def rmse(test_data, predicted):\n",
    "    \"\"\"Calculate root mean squared error.\n",
    "    Ignoring missing values in the test data.\n",
    "    \"\"\"\n",
    "    I = ~np.isnan(test_data)  # indicator for missing values\n",
    "    N = I.sum()  # number of non-missing values\n",
    "    sqerror = abs(test_data - predicted) ** 2  # squared error array\n",
    "    mse = sqerror[I].sum() / N  # mean squared error\n",
    "    return np.sqrt(mse)  # RMSE\n",
    "\n",
    "\n"
   ]
  },
  {
   "cell_type": "code",
   "execution_count": null,
   "id": "644c65ae-9237-4155-8699-ddc265f1d4c2",
   "metadata": {
    "pycharm": {
     "is_executing": true
    }
   },
   "outputs": [
    {
     "name": "stderr",
     "output_type": "stream",
     "text": [
      "INFO:root:building the PMF model\n",
      "WARNING (theano.link.c.cmodule): Deleting (broken cache directory [EOF]): /Users/Daniel/.theano/compiledir_macOS-10.16-x86_64-i386-64bit-i386-3.9.12-64/tmpalahb7jj\n",
      "WARNING:theano.link.c.cmodule:Deleting (broken cache directory [EOF]): /Users/Daniel/.theano/compiledir_macOS-10.16-x86_64-i386-64bit-i386-3.9.12-64/tmpalahb7jj\n",
      "WARNING (theano.link.c.cmodule): Deleting (broken cache directory [EOF]): /Users/Daniel/.theano/compiledir_macOS-10.16-x86_64-i386-64bit-i386-3.9.12-64/tmpi8pik5pq\n",
      "WARNING:theano.link.c.cmodule:Deleting (broken cache directory [EOF]): /Users/Daniel/.theano/compiledir_macOS-10.16-x86_64-i386-64bit-i386-3.9.12-64/tmpi8pik5pq\n",
      "WARNING (theano.link.c.cmodule): Deleting (broken cache directory [EOF]): /Users/Daniel/.theano/compiledir_macOS-10.16-x86_64-i386-64bit-i386-3.9.12-64/tmpk1tgi9q9\n",
      "WARNING:theano.link.c.cmodule:Deleting (broken cache directory [EOF]): /Users/Daniel/.theano/compiledir_macOS-10.16-x86_64-i386-64bit-i386-3.9.12-64/tmpk1tgi9q9\n",
      "WARNING (theano.link.c.cmodule): Deleting (broken cache directory [EOF]): /Users/Daniel/.theano/compiledir_macOS-10.16-x86_64-i386-64bit-i386-3.9.12-64/tmpsvvx2fz2\n",
      "WARNING:theano.link.c.cmodule:Deleting (broken cache directory [EOF]): /Users/Daniel/.theano/compiledir_macOS-10.16-x86_64-i386-64bit-i386-3.9.12-64/tmpsvvx2fz2\n",
      "INFO:root:done building the PMF model\n",
      "/var/folders/dm/b79x42n96dl9s8jpb4t3_9lc0000gp/T/ipykernel_73558/612420354.py:88: FutureWarning: In v4.0, pm.sample will return an `arviz.InferenceData` object instead of a `MultiTrace` by default. You can pass return_inferencedata=True or return_inferencedata=False to be safe and silence this warning.\n",
      "  self._trace = pm.sample(chains=4)\n",
      "Auto-assigning NUTS sampler...\n",
      "INFO:pymc3:Auto-assigning NUTS sampler...\n",
      "Initializing NUTS using jitter+adapt_diag...\n",
      "INFO:pymc3:Initializing NUTS using jitter+adapt_diag...\n",
      "Multiprocess sampling (4 chains in 4 jobs)\n",
      "INFO:pymc3:Multiprocess sampling (4 chains in 4 jobs)\n",
      "NUTS: [V, U]\n",
      "INFO:pymc3:NUTS: [V, U]\n"
     ]
    },
    {
     "data": {
      "text/plain": "<IPython.core.display.HTML object>",
      "text/html": "\n    <div>\n        <style>\n            /* Turns off some styling */\n            progress {\n                /* gets rid of default border in Firefox and Opera. */\n                border: none;\n                /* Needs to be in here for Safari polyfill so background images work as expected. */\n                background-size: auto;\n            }\n            .progress-bar-interrupted, .progress-bar-interrupted::-webkit-progress-bar {\n                background: #F44336;\n            }\n        </style>\n      <progress value='0' class='' max='8000' style='width:300px; height:20px; vertical-align: middle;'></progress>\n      \n    </div>\n    "
     },
     "metadata": {},
     "output_type": "display_data"
    }
   ],
   "source": [
    "    \n",
    "# We use a fixed precision for the likelihood.\n",
    "# This reflects uncertainty in the dot product.\n",
    "# We choose 2 in the footsteps Salakhutdinov\n",
    "# Mnihof.\n",
    "ALPHA = 8\n",
    "\n",
    "# The dimensionality D; the number of latent factors.\n",
    "# We can adjust this higher to try to capture more subtle\n",
    "# characteristics of each movie. However, the higher it is,\n",
    "# the more expensive our inference procedures will be.\n",
    "# Specifically, we have D(N + M) latent variables. For our\n",
    "# Movielens dataset, this means we have D(2625), so for 5\n",
    "# dimensions, we are sampling 13125 latent variables.\n",
    "DIM = 11\n",
    "\n",
    "\n",
    "pmf = PMF(krakow_df_1d.values, DIM, ALPHA, std=0.05)\n",
    "\n",
    "# Find MAP for PMF\n",
    "trace = pmf.trace;"
   ]
  },
  {
   "cell_type": "code",
   "execution_count": 62,
   "outputs": [
    {
     "data": {
      "text/plain": "<IPython.core.display.HTML object>",
      "text/html": "\n    <div>\n        <style>\n            /* Turns off some styling */\n            progress {\n                /* gets rid of default border in Firefox and Opera. */\n                border: none;\n                /* Needs to be in here for Safari polyfill so background images work as expected. */\n                background-size: auto;\n            }\n            .progress-bar-interrupted, .progress-bar-interrupted::-webkit-progress-bar {\n                background: #F44336;\n            }\n        </style>\n      <progress value='0' class='' max='1000' style='width:300px; height:20px; vertical-align: middle;'></progress>\n      \n    </div>\n    "
     },
     "metadata": {},
     "output_type": "display_data"
    }
   ],
   "source": [
    "ppc = pmf.ppc(1)"
   ],
   "metadata": {
    "collapsed": false,
    "pycharm": {
     "name": "#%%\n"
    }
   }
  },
  {
   "cell_type": "code",
   "execution_count": 64,
   "outputs": [
    {
     "data": {
      "text/plain": "<AxesSubplot:xlabel='R'>"
     },
     "execution_count": 64,
     "metadata": {},
     "output_type": "execute_result"
    },
    {
     "data": {
      "text/plain": "<Figure size 432x288 with 1 Axes>",
      "image/png": "[encoded data removed]"
     },
     "metadata": {},
     "output_type": "display_data"
    }
   ],
   "source": [
    "import arviz as az\n",
    "az.plot_ppc(az.from_pymc3(posterior_predictive=ppc, model=pmf.model))"
   ],
   "metadata": {
    "collapsed": false,
    "pycharm": {
     "name": "#%%\n"
    }
   }
  }
 ],
 "metadata": {
  "kernelspec": {
   "display_name": "Python 3 (ipykernel)",
   "language": "python",
   "name": "python3"
  },
  "language_info": {
   "codemirror_mode": {
    "name": "ipython",
    "version": 3
   },
   "file_extension": ".py",
   "mimetype": "text/x-python",
   "name": "python",
   "nbconvert_exporter": "python",
   "pygments_lexer": "ipython3",
   "version": "3.9.7"
  }
 },
 "nbformat": 4,
 "nbformat_minor": 5
}