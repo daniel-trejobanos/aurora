{
 "cells": [
  {
   "cell_type": "markdown",
   "id": "18694d7f-91b5-4bec-8cad-d3f8d5182e5d",
   "metadata": {
    "tags": []
   },
   "source": [
    "# Bayesian NMF\n",
    "\n",
    "We will try to set up a MF workflow for the AMS data for Krakow, first we define our matrix factorization model, coming from the PyMC documentation. Notice that here `PMF` refers to Probabilistic Matrix Factorization instead of Positive Matrix Factorization as known in the air quality literature"
   ]
  },
  {
   "cell_type": "code",
   "execution_count": 1,
   "id": "1481f4ab-b04a-4b71-9a95-9da4922f6515",
   "metadata": {},
   "outputs": [
    {
     "name": "stdout",
     "output_type": "stream",
     "text": [
      "Running on PyMC3 v3.11.4\n"
     ]
    }
   ],
   "source": [
    "import logging\n",
    "import time\n",
    "\n",
    "import scipy as sp\n",
    "import theano\n",
    "import pandas as pd\n",
    "import numpy as np\n",
    "import pymc3 as pm\n",
    "\n",
    "from matplotlib import pyplot as plt\n",
    "\n",
    "plt.style.use(\"seaborn-darkgrid\")\n",
    "print(f\"Running on PyMC3 v{pm.__version__}\")"
   ]
  },
  {
   "cell_type": "markdown",
   "source": [
    "We load the original Krakow data in format itx, we resample at different resolutions"
   ],
   "metadata": {
    "collapsed": false,
    "pycharm": {
     "name": "#%% md\n"
    }
   }
  },
  {
   "cell_type": "code",
   "execution_count": 2,
   "outputs": [],
   "source": [
    "from src.python.aurora_py.itx_adapter import ItxAdapter\n",
    "\n",
    "with open(\"../data/observations/KRK_input_10min.itx\",\"r\") as file:\n",
    "    itx_adapter = ItxAdapter(file.read())\n",
    "\n",
    "krakow_df = itx_adapter.to_pandas()\n",
    "krakow_df.drop([12.0,37.0],axis=1,inplace=True)\n",
    "\n",
    "krakow_df_30min = krakow_df.resample(\"30min\").mean()\n",
    "krakow_df_1h = krakow_df.resample(\"1H\").mean()\n",
    "krakow_df_1d = krakow_df.resample(\"1D\").mean()"
   ],
   "metadata": {
    "collapsed": false,
    "pycharm": {
     "name": "#%%\n"
    }
   }
  },
  {
   "cell_type": "markdown",
   "source": [
    "Non-negative matrix factorization model\n"
   ],
   "metadata": {
    "collapsed": false,
    "pycharm": {
     "name": "#%% md\n"
    }
   }
  },
  {
   "cell_type": "code",
   "execution_count": 3,
   "id": "8b0eda9d-2f93-4ecc-89d4-1bb99b8044d4",
   "metadata": {},
   "outputs": [],
   "source": [
    "# Enable on-the-fly graph computations, but ignore\n",
    "# absence of intermediate test values.\n",
    "theano.config.compute_test_value = \"ignore\"\n",
    "\n",
    "# Set up logging.\n",
    "logger = logging.getLogger()\n",
    "logger.setLevel(logging.INFO)\n",
    "\n",
    "\n",
    "class PMF:\n",
    "    \"\"\"Probabilistic Matrix Factorization model using pymc3.\"\"\"\n",
    "\n",
    "    def __init__(self, train, dim, alpha=2, std=0.01, bounds=(1, 5)):\n",
    "        \"\"\"Build the Probabilistic Matrix Factorization model using pymc3.\n",
    "\n",
    "        :param np.ndarray train: The training data to use for learning the model.\n",
    "        :param int dim: Dimensionality of the model; number of latent factors.\n",
    "        :param int alpha: Fixed precision for the likelihood function.\n",
    "        :param float std: Amount of noise to use for model initialization.\n",
    "        :param (tuple of int) bounds: (lower, upper) bound of ratings.\n",
    "            These bounds will simply be used to cap the estimates produced for R.\n",
    "\n",
    "        \"\"\"\n",
    "        self.dim = dim\n",
    "        self.alpha = alpha\n",
    "        self.std = np.sqrt(1.0 / alpha)\n",
    "        self.bounds = bounds\n",
    "        self.data = train.copy()\n",
    "        n, m = self.data.shape\n",
    "\n",
    "        # Perform mean value imputation\n",
    "        nan_mask = np.isnan(self.data)\n",
    "        self.data[nan_mask] = self.data[~nan_mask].mean()\n",
    "\n",
    "        # Low precision reflects uncertainty; prevents overfitting.\n",
    "        # Set to the mean variance across users and items.\n",
    "        self.alpha_u = 10 / self.data.var(axis=1).mean()\n",
    "        self.alpha_v = 10 / self.data.var(axis=0).mean()\n",
    "\n",
    "        # Specify the model.\n",
    "        logging.info(\"building the PMF model\")\n",
    "        with pm.Model() as pmf:\n",
    "            PositiveNormal = pm.Bound(pm.Normal, lower=0.0)\n",
    "            U = PositiveNormal(\n",
    "                \"U\",\n",
    "                mu=0,\n",
    "                tau=self.alpha_u,\n",
    "                shape=(n, dim)\n",
    "            )\n",
    "            V = PositiveNormal(\n",
    "                \"V\",\n",
    "                mu=0,\n",
    "                tau=self.alpha_v,\n",
    "                shape=(m, dim)\n",
    "            )\n",
    "            R = pm.Normal(\n",
    "                \"R\", mu=(U @ V.T)[~nan_mask], tau=self.alpha, observed=self.data[~nan_mask]\n",
    "            )\n",
    "\n",
    "\n",
    "        logging.info(\"done building the PMF model\")\n",
    "        self.model = pmf\n",
    "\n",
    "    def __str__(self):\n",
    "        return self.name\n",
    "\n",
    "    def _find_map(self):\n",
    "        \"\"\"Find mode of posterior using L-BFGS-B optimization.\"\"\"\n",
    "        tstart = time.time()\n",
    "        with self.model:\n",
    "            logging.info(\"finding PMF MAP using L-BFGS-B optimization...\")\n",
    "            self._map = pm.find_MAP(method=\"L-BFGS-B\")\n",
    "\n",
    "        elapsed = int(time.time() - tstart)\n",
    "        logging.info(\"found PMF MAP in %d seconds\" % elapsed)\n",
    "        return self._map\n",
    "\n",
    "    @property\n",
    "    def map(self):\n",
    "        try:\n",
    "            return self._map\n",
    "        except:\n",
    "            return self._find_map()\n",
    "\n",
    "    # Draw MCMC samples.\n",
    "    def _draw_samples(self):\n",
    "        with self.model:\n",
    "            self._trace = pm.sample(chains=4)\n",
    "\n",
    "    @property\n",
    "    def trace(self):\n",
    "        try:\n",
    "            return self._trace\n",
    "        except:\n",
    "            return self._draw_samples()\n",
    "\n",
    "\n",
    "    def _posterior_predicive(self):\n",
    "        with self.model:\n",
    "            self._ppc = pm.sample_posterior_predictive(self.trace, var_names=[\"R\"])\n",
    "\n",
    "    @property\n",
    "    def ppc(self):\n",
    "        return self._ppc\n",
    "\n",
    "# Define our evaluation function.\n",
    "def rmse(test_data, predicted):\n",
    "    \"\"\"Calculate root mean squared error.\n",
    "    Ignoring missing values in the test data.\n",
    "    \"\"\"\n",
    "    I = ~np.isnan(test_data)  # indicator for missing values\n",
    "    N = I.sum()  # number of non-missing values\n",
    "    sqerror = abs(test_data - predicted) ** 2  # squared error array\n",
    "    mse = sqerror[I].sum() / N  # mean squared error\n",
    "    return np.sqrt(mse)  # RMSE\n",
    "\n",
    "\n"
   ]
  },
  {
   "cell_type": "code",
   "execution_count": null,
   "id": "644c65ae-9237-4155-8699-ddc265f1d4c2",
   "metadata": {
    "pycharm": {
     "is_executing": true
    }
   },
   "outputs": [
    {
     "name": "stderr",
     "output_type": "stream",
     "text": [
      "INFO:root:building the PMF model\n",
      "WARNING (theano.link.c.cmodule): Deleting (broken cache directory [EOF]): /Users/Daniel/.theano/compiledir_macOS-10.16-x86_64-i386-64bit-i386-3.9.12-64/tmpalahb7jj\n",
      "WARNING:theano.link.c.cmodule:Deleting (broken cache directory [EOF]): /Users/Daniel/.theano/compiledir_macOS-10.16-x86_64-i386-64bit-i386-3.9.12-64/tmpalahb7jj\n",
      "WARNING (theano.link.c.cmodule): Deleting (broken cache directory [EOF]): /Users/Daniel/.theano/compiledir_macOS-10.16-x86_64-i386-64bit-i386-3.9.12-64/tmpi8pik5pq\n",
      "WARNING:theano.link.c.cmodule:Deleting (broken cache directory [EOF]): /Users/Daniel/.theano/compiledir_macOS-10.16-x86_64-i386-64bit-i386-3.9.12-64/tmpi8pik5pq\n",
      "WARNING (theano.link.c.cmodule): Deleting (broken cache directory [EOF]): /Users/Daniel/.theano/compiledir_macOS-10.16-x86_64-i386-64bit-i386-3.9.12-64/tmpk1tgi9q9\n",
      "WARNING:theano.link.c.cmodule:Deleting (broken cache directory [EOF]): /Users/Daniel/.theano/compiledir_macOS-10.16-x86_64-i386-64bit-i386-3.9.12-64/tmpk1tgi9q9\n",
      "WARNING (theano.link.c.cmodule): Deleting (broken cache directory [EOF]): /Users/Daniel/.theano/compiledir_macOS-10.16-x86_64-i386-64bit-i386-3.9.12-64/tmpsvvx2fz2\n",
      "WARNING:theano.link.c.cmodule:Deleting (broken cache directory [EOF]): /Users/Daniel/.theano/compiledir_macOS-10.16-x86_64-i386-64bit-i386-3.9.12-64/tmpsvvx2fz2\n",
      "INFO:root:done building the PMF model\n",
      "/var/folders/dm/b79x42n96dl9s8jpb4t3_9lc0000gp/T/ipykernel_73558/612420354.py:88: FutureWarning: In v4.0, pm.sample will return an `arviz.InferenceData` object instead of a `MultiTrace` by default. You can pass return_inferencedata=True or return_inferencedata=False to be safe and silence this warning.\n",
      "  self._trace = pm.sample(chains=4)\n",
      "Auto-assigning NUTS sampler...\n",
      "INFO:pymc3:Auto-assigning NUTS sampler...\n",
      "Initializing NUTS using jitter+adapt_diag...\n",
      "INFO:pymc3:Initializing NUTS using jitter+adapt_diag...\n",
      "Multiprocess sampling (4 chains in 4 jobs)\n",
      "INFO:pymc3:Multiprocess sampling (4 chains in 4 jobs)\n",
      "NUTS: [V, U]\n",
      "INFO:pymc3:NUTS: [V, U]\n"
     ]
    },
    {
     "data": {
      "text/plain": "<IPython.core.display.HTML object>",
      "text/html": "\n    <div>\n        <style>\n            /* Turns off some styling */\n            progress {\n                /* gets rid of default border in Firefox and Opera. */\n                border: none;\n                /* Needs to be in here for Safari polyfill so background images work as expected. */\n                background-size: auto;\n            }\n            .progress-bar-interrupted, .progress-bar-interrupted::-webkit-progress-bar {\n                background: #F44336;\n            }\n        </style>\n      <progress value='0' class='' max='8000' style='width:300px; height:20px; vertical-align: middle;'></progress>\n      \n    </div>\n    "
     },
     "metadata": {},
     "output_type": "display_data"
    }
   ],
   "source": [
    "    \n",
    "# We use a fixed precision for the likelihood.\n",
    "# This reflects uncertainty in the dot product.\n",
    "# We choose 2 in the footsteps Salakhutdinov\n",
    "# Mnihof.\n",
    "ALPHA = 8\n",
    "\n",
    "# The dimensionality D; the number of latent factors.\n",
    "# We can adjust this higher to try to capture more subtle\n",
    "# characteristics of each movie. However, the higher it is,\n",
    "# the more expensive our inference procedures will be.\n",
    "# Specifically, we have D(N + M) latent variables. For our\n",
    "# Movielens dataset, this means we have D(2625), so for 5\n",
    "# dimensions, we are sampling 13125 latent variables.\n",
    "DIM = 11\n",
    "\n",
    "\n",
    "pmf = PMF(krakow_df_1d.values, DIM, ALPHA, std=0.05)\n",
    "\n",
    "# Find MAP for PMF\n",
    "trace = pmf.trace;"
   ]
  },
  {
   "cell_type": "code",
   "execution_count": 62,
   "outputs": [
    {
     "data": {
      "text/plain": "<IPython.core.display.HTML object>",
      "text/html": "\n    <div>\n        <style>\n            /* Turns off some styling */\n            progress {\n                /* gets rid of default border in Firefox and Opera. */\n                border: none;\n                /* Needs to be in here for Safari polyfill so background images work as expected. */\n                background-size: auto;\n            }\n            .progress-bar-interrupted, .progress-bar-interrupted::-webkit-progress-bar {\n                background: #F44336;\n            }\n        </style>\n      <progress value='0' class='' max='1000' style='width:300px; height:20px; vertical-align: middle;'></progress>\n      \n    </div>\n    "
     },
     "metadata": {},
     "output_type": "display_data"
    }
   ],
   "source": [
    "ppc = pmf.ppc(1)"
   ],
   "metadata": {
    "collapsed": false,
    "pycharm": {
     "name": "#%%\n"
    }
   }
  },
  {
   "cell_type": "code",
   "execution_count": 64,
   "outputs": [
    {
     "data": {
      "text/plain": "<AxesSubplot:xlabel='R'>"
     },
     "execution_count": 64,
     "metadata": {},
     "output_type": "execute_result"
    },
    {
     "data": {
      "text/plain": "<Figure size 432x288 with 1 Axes>",
      "image/png": "[encoded data removed]"
     },
     "metadata": {},
     "output_type": "display_data"
    }
   ],
   "source": [
    "import arviz as az\n",
    "az.plot_ppc(az.from_pymc3(posterior_predictive=ppc, model=pmf.model))"
   ],
   "metadata": {
    "collapsed": false,
    "pycharm": {
     "name": "#%%\n"
    }
   }
  },
  {
   "cell_type": "markdown",
   "id": "438477f4",
   "metadata": {
    "pycharm": {
     "name": "#%% md\n"
    }
   },
   "source": [
    "# Using Gaussian processes"
   ]
  },
  {
   "cell_type": "code",
   "execution_count": 13,
   "id": "30c85d46-9b69-4943-aab2-6c7f80ae6c35",
   "metadata": {},
   "outputs": [
    {
     "data": {
      "text/plain": [
       "array([0.00000000e+00, 9.12408759e-05, 1.82481752e-04, ...,\n",
       "       9.99817518e-01, 9.99908759e-01, 1.00000000e+00])"
      ]
     },
     "metadata": {},
     "output_type": "display_data"
    },
    {
     "data": {
      "text/plain": [
       "array([ 0.042046  , -0.01037391,  0.01966863, ...,  0.07067725,\n",
       "        0.00622268,  0.18474056])"
      ]
     },
     "metadata": {},
     "output_type": "display_data"
    },
    {
     "data": {
      "text/plain": [
       "array([nan, nan, nan, ..., nan, nan, nan])"
      ]
     },
     "metadata": {},
     "output_type": "display_data"
    },
    {
     "data": {
      "text/plain": [
       "array([[0.00000000e+00],\n",
       "       [9.12408759e-05],\n",
       "       [1.82481752e-04],\n",
       "       ...,\n",
       "       [9.99817518e-01],\n",
       "       [9.99908759e-01],\n",
       "       [1.00000000e+00]])"
      ]
     },
     "metadata": {},
     "output_type": "display_data"
    },
    {
     "data": {
      "text/plain": [
       "array([ 0.042046  , -0.01037391,  0.01966863, ...,  0.07067725,\n",
       "        0.00622268,  0.18474056])"
      ]
     },
     "metadata": {},
     "output_type": "display_data"
    }
   ],
   "source": [
    "\n",
    "normalized_time = (np.array(krakow_df.index.astype(int)) - np.min(np.array(krakov_df.index.astype(int))))\n",
    "normalized_time = normalized_time /(np.max(normalized_time))\n",
    "first_ts=krakow_df.iloc[:,0].values\n",
    "\n",
    "display(normalized_time)\n",
    "display(first_ts)\n",
    "display(first_ts[np.isnan(first_ts)])\n",
    "\n",
    "valid_times=~np.isnan(first_ts)\n",
    "\n",
    "X_obs = np.expand_dims(normalized_time[valid_times],axis=1)\n",
    "y_obs = first_ts[valid_times]\n",
    "display(X_obs)\n",
    "display(y_obs)\n",
    "\n",
    "Xnew = np.expand_dims(normalized_time[~valid_times], axis=1)\n",
    "X_ = np.expand_dims(normalized_time, axis=1)"
   ]
  },
  {
   "cell_type": "code",
   "execution_count": 14,
   "id": "5cc453ad-3018-4150-900d-6ae155479029",
   "metadata": {
    "pycharm": {
     "name": "#%%\n"
    }
   },
   "outputs": [],
   "source": [
    "import matplotlib.pyplot as plt\n",
    "import numpy as np\n",
    "import pymc3 as pm\n",
    "import theano.tensor as tt\n",
    "\n",
    "from scipy.spatial.distance import pdist\n",
    "\n",
    "%config InlineBackend.figure_format ='retina'"
   ]
  },
  {
   "cell_type": "code",
   "execution_count": 17,
   "id": "49520dc7",
   "metadata": {
    "collapsed": false,
    "jupyter": {
     "outputs_hidden": false
    },
    "pycharm": {
     "name": "#%%\n"
    }
   },
   "outputs": [],
   "source": [
    "SEED = 2020\n",
    "rng = np.random.default_rng(SEED)"
   ]
  },
  {
   "cell_type": "code",
   "execution_count": 19,
   "id": "ba059a5f",
   "metadata": {
    "collapsed": false,
    "jupyter": {
     "outputs_hidden": false
    },
    "pycharm": {
     "name": "#%%\n"
    }
   },
   "outputs": [
    {
     "data": {
      "text/plain": [
       "array([[[0.00000000e+00]],\n",
       "\n",
       "       [[9.12408759e-05]],\n",
       "\n",
       "       [[1.82481752e-04]],\n",
       "\n",
       "       ...,\n",
       "\n",
       "       [[9.99817518e-01]],\n",
       "\n",
       "       [[9.99908759e-01]],\n",
       "\n",
       "       [[1.00000000e+00]]])"
      ]
     },
     "execution_count": 19,
     "metadata": {},
     "output_type": "execute_result"
    }
   ],
   "source": [
    "X_[:,None]"
   ]
  },
  {
   "cell_type": "code",
   "execution_count": 22,
   "id": "66e999db",
   "metadata": {
    "collapsed": false,
    "jupyter": {
     "outputs_hidden": false
    },
    "pycharm": {
     "name": "#%%\n"
    }
   },
   "outputs": [],
   "source": [
    "def get_ℓ_prior(points):\n",
    "    \"\"\"Calculates mean and sd for InverseGamma prior on lengthscale\"\"\"\n",
    "    distances = pdist(points)\n",
    "    distinct = distances != 0\n",
    "    ℓ_l = distances[distinct].min() if sum(distinct) > 0 else 0.1\n",
    "    ℓ_u = distances[distinct].max() if sum(distinct) > 0 else 1\n",
    "    ℓ_σ = max(0.1, (ℓ_u - ℓ_l) / 6)\n",
    "    ℓ_μ = ℓ_l + 3 * ℓ_σ\n",
    "    return ℓ_μ, ℓ_σ\n",
    "\n",
    "\n",
    "ℓ_μ, ℓ_σ = [stat for stat in get_ℓ_prior(X_)]"
   ]
  },
  {
   "cell_type": "code",
   "execution_count": 25,
   "id": "e6f9c09a",
   "metadata": {
    "collapsed": false,
    "jupyter": {
     "outputs_hidden": false
    },
    "pycharm": {
     "name": "#%%\n"
    }
   },
   "outputs": [],
   "source": [
    "def plot_inducing_points(ax):\n",
    "    yl = ax.get_ylim()\n",
    "    yu = -np.subtract(*yl) * 0.025 + yl[0]\n",
    "    ax.plot(Xu, np.full(Xu.shape, yu), \"xk\", label=\"Inducing Points\")\n",
    "    ax.legend(loc=\"upper left\")\n",
    "\n",
    "\n",
    "def get_quantiles(samples, quantiles=[2.5, 50, 97.5]):\n",
    "    return [np.percentile(samples, p, axis=0) for p in quantiles]\n",
    "\n",
    "\n",
    "def plot_mean(ax, mean_samples):\n",
    "    \"\"\"Plots the median and 95% CI from samples of the mean\n",
    "\n",
    "    Note that, although each individual GP exhibits a normal distribution at each point\n",
    "    (by definition), we are sampling from a mixture of GPs defined by the posteriors of\n",
    "    our hyperparameters. As such, we use percentiles rather than mean +/- stdev to\n",
    "    represent the spread of predictions from our models.\n",
    "    \"\"\"\n",
    "    l, m, u = get_quantiles(mean_samples)\n",
    "    ax.plot(Xnew, m, \"C0\", label=\"Median\")\n",
    "    ax.fill_between(Xnew_, l, u, facecolor=\"C0\", alpha=0.5, label=\"95% CI\")\n",
    "\n",
    "    ax.plot(Xnew, ynew, \"--k\", label=\"Mean Function\")\n",
    "    ax.plot(X, y, \"C1.\", label=\"Observed Means\")\n",
    "    ax.set_title(\"Mean Behavior\")\n",
    "    ax.legend(loc=\"upper left\")\n",
    "\n",
    "\n",
    "def plot_var(ax, var_samples):\n",
    "    \"\"\"Plots the median and 95% CI from samples of the variance\"\"\"\n",
    "    if var_samples.squeeze().ndim == 1:\n",
    "        ax.plot(Xnew, var_samples, \"C0\", label=\"Median\")\n",
    "    else:\n",
    "        l, m, u = get_quantiles(var_samples)\n",
    "        ax.plot(Xnew, m, \"C0\", label=\"Median\")\n",
    "        ax.fill_between(Xnew.flatten(), l, u, facecolor=\"C0\", alpha=0.5, label=\"95% CI\")\n",
    "    ax.plot(Xnew, noise(signal(Xnew_)) ** 2, \"--k\", label=\"Noise Function\")\n",
    "    ax.plot(X, y_err ** 2, \"C1.\", label=\"Observed Variance\")\n",
    "    ax.set_title(\"Variance Behavior\")\n",
    "    ax.legend(loc=\"upper left\")\n",
    "\n",
    "\n",
    "def plot_total(ax, mean_samples, var_samples=None, bootstrap=True, n_boots=100):\n",
    "    \"\"\"Plots the overall mean and variance of the aggregate system\n",
    "\n",
    "    We can represent the overall uncertainty via explicitly sampling the underlying normal\n",
    "    distributrions (with `bootstrap=True`) or as the mean +/- the standard deviation from\n",
    "    the Law of Total Variance. For systems with many observations, there will likely be\n",
    "    little difference, but in cases with few observations and informative priors, plotting\n",
    "    the percentiles will likely give a more accurate representation.\n",
    "    \"\"\"\n",
    "\n",
    "    if (var_samples is None) or (var_samples.squeeze().ndim == 1):\n",
    "        samples = mean_samples\n",
    "        l, m, u = get_quantiles(samples)\n",
    "        ax.plot(Xnew, m, \"C0\", label=\"Median\")\n",
    "    elif bootstrap:\n",
    "        # Estimate the aggregate behavior using samples from each normal distribution in the posterior\n",
    "        samples = (\n",
    "            rng.normal(\n",
    "                mean_samples.T[:, :, None],\n",
    "                np.sqrt(var_samples).T[:, :, None],\n",
    "                (*mean_samples.T.shape, n_boots),\n",
    "            )\n",
    "            .reshape(len(Xnew_), -1)\n",
    "            .T\n",
    "        )\n",
    "        l, m, u = get_quantiles(samples)\n",
    "        ax.plot(Xnew, m, \"C0\", label=\"Median\")\n",
    "    else:\n",
    "        m = mean_samples.mean(axis=0)\n",
    "        ax.plot(Xnew, m, \"C0\", label=\"Mean\")\n",
    "        sd = np.sqrt(mean_samples.var(axis=0) + var_samples.mean(axis=0))\n",
    "        l, u = m - 2 * sd, m + 2 * sd\n",
    "\n",
    "    ax.fill_between(Xnew.flatten(), l, u, facecolor=\"C0\", alpha=0.5, label=\"Total 95% CI\")\n",
    "\n",
    "    ax.plot(Xnew, ynew, \"--k\", label=\"Mean Function\")\n",
    "    ax.plot(X_obs, y_obs_, \"C1.\", label=\"Observations\")\n",
    "    ax.set_title(\"Aggregate Behavior\")\n",
    "    ax.legend(loc=\"upper left\")"
   ]
  },
  {
   "cell_type": "code",
   "execution_count": null,
   "id": "12ec5f42",
   "metadata": {
    "collapsed": false,
    "jupyter": {
     "outputs_hidden": false
    },
    "pycharm": {
     "name": "#%%\n"
    }
   },
   "outputs": [
    {
     "name": "stderr",
     "output_type": "stream",
     "text": [
      "Auto-assigning NUTS sampler...\n",
      "INFO:pymc3:Auto-assigning NUTS sampler...\n",
      "Initializing NUTS using jitter+adapt_diag...\n",
      "INFO:pymc3:Initializing NUTS using jitter+adapt_diag...\n",
      "Multiprocess sampling (4 chains in 4 jobs)\n",
      "INFO:pymc3:Multiprocess sampling (4 chains in 4 jobs)\n",
      "NUTS: [σ, η, ℓ]\n",
      "INFO:pymc3:NUTS: [σ, η, ℓ]\n"
     ]
    }
   ],
   "source": [
    "%%script false\n",
    "with pm.Model() as model_hm:\n",
    "    ℓ = pm.InverseGamma(\"ℓ\", mu=ℓ_μ, sigma=ℓ_σ)\n",
    "    η = pm.Gamma(\"η\", alpha=2, beta=1)\n",
    "    cov = η ** 2 * pm.gp.cov.ExpQuad(input_dim=1, ls=ℓ)\n",
    "\n",
    "    gp_hm = pm.gp.Marginal(cov_func=cov)\n",
    "\n",
    "    σ = pm.Exponential(\"σ\", lam=1)\n",
    "\n",
    "    ml_hm = gp_hm.marginal_likelihood(\"ml_hm\", X=X_obs, y=y_obs, noise=σ)\n",
    "\n",
    "    trace_hm = pm.sample(return_inferencedata=True, random_seed=SEED)\n",
    "\n",
    "with model_hm:\n",
    "    mu_pred_hm = gp_hm.conditional(\"mu_pred_hm\", Xnew=Xnew)\n",
    "    noisy_pred_hm = gp_hm.conditional(\"noisy_pred_hm\", Xnew=Xnew, pred_noise=True)\n",
    "    samples_hm = pm.sample_posterior_predictive(trace_hm, var_names=[\"mu_pred_hm\", \"noisy_pred_hm\"])"
   ]
  }
 ],
 "metadata": {
  "kernelspec": {
   "display_name": "Python 3 (ipykernel)",
   "language": "python",
   "name": "python3"
  },
  "language_info": {
   "codemirror_mode": {
    "name": "ipython",
    "version": 3
   },
   "file_extension": ".py",
   "mimetype": "text/x-python",
   "name": "python",
   "nbconvert_exporter": "python",
   "pygments_lexer": "ipython3",
   "version": "3.9.7"
  }
 },
 "nbformat": 4,
 "nbformat_minor": 5
}