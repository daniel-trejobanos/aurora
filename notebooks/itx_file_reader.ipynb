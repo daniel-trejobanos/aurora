{
 "cells": [
  {
   "cell_type": "markdown",
   "metadata": {
    "collapsed": true,
    "pycharm": {
     "name": "#%% md\n"
    }
   },
   "source": [
    "# ITX file reader\n",
    "\n",
    "## Installing *auroraPSI*\n",
    "The developed file reader can be found as part of the package `auroraPSI`\n",
    "\n",
    "In order to use it one must first clone the repository\n",
    "\n",
    "```{shell}\n",
    "git clone git@renkulab.io:daniel.trejobanos1/aurora.git\n",
    "```\n",
    "After that, it is necessary to install the auroraPSI package\n",
    "\n",
    "```\n",
    "cd aurora/src/python\n",
    "pip install -e .\n",
    "```\n",
    "## Using the itx file reader\n",
    "\n",
    "The itx file reader is part of the itx_adapter module using it is as simple as:"
   ]
  },
  {
   "cell_type": "code",
   "execution_count": 1,
   "outputs": [],
   "source": [
    "from auroraPSI.itx_adapter import ItxAdapter"
   ],
   "metadata": {
    "collapsed": false,
    "pycharm": {
     "name": "#%%\n"
    }
   }
  },
  {
   "cell_type": "markdown",
   "source": [
    "Now to read a file lets just use:"
   ],
   "metadata": {
    "collapsed": false,
    "pycharm": {
     "name": "#%% md\n"
    }
   }
  },
  {
   "cell_type": "code",
   "execution_count": 2,
   "outputs": [],
   "source": [
    "itx_adapter = ItxAdapter.read_file(\"../data/observations/KRK_input_10min.itx\")"
   ],
   "metadata": {
    "collapsed": false,
    "pycharm": {
     "name": "#%%\n"
    }
   }
  },
  {
   "cell_type": "markdown",
   "source": [
    "Now the adapter has inside all the wave information"
   ],
   "metadata": {
    "collapsed": false,
    "pycharm": {
     "name": "#%% md\n"
    }
   }
  },
  {
   "cell_type": "code",
   "execution_count": 3,
   "outputs": [
    {
     "data": {
      "text/plain": "<auroraPSI.itx_adapter.ItxAdapter at 0x7f7dc84b9940>"
     },
     "execution_count": 3,
     "metadata": {},
     "output_type": "execute_result"
    }
   ],
   "source": [
    "itx_adapter.read_file(\"../data/observations/KRK_input_10min.itx\")"
   ],
   "metadata": {
    "collapsed": false,
    "pycharm": {
     "name": "#%%\n"
    }
   }
  },
  {
   "cell_type": "markdown",
   "source": [
    "The adapter provides a set of functions to query the itx file contents"
   ],
   "metadata": {
    "collapsed": false,
    "pycharm": {
     "name": "#%% md\n"
    }
   }
  },
  {
   "cell_type": "code",
   "execution_count": 4,
   "outputs": [
    {
     "data": {
      "text/plain": "['Org_Specs', 'OrgSpecs_err', 'acsm_utc_time', 'amus', 'amus_txt']"
     },
     "execution_count": 4,
     "metadata": {},
     "output_type": "execute_result"
    }
   ],
   "source": [
    "itx_adapter.waves_names"
   ],
   "metadata": {
    "collapsed": false,
    "pycharm": {
     "name": "#%%\n"
    }
   }
  },
  {
   "cell_type": "code",
   "execution_count": 5,
   "outputs": [
    {
     "data": {
      "text/plain": "{'Org_Specs': (50161, 93),\n 'OrgSpecs_err': (50161, 93),\n 'acsm_utc_time': (50161, 1),\n 'amus': (93, 1),\n 'amus_txt': (93, 1)}"
     },
     "execution_count": 5,
     "metadata": {},
     "output_type": "execute_result"
    }
   ],
   "source": [
    "itx_adapter.waves_shapes"
   ],
   "metadata": {
    "collapsed": false,
    "pycharm": {
     "name": "#%%\n"
    }
   }
  },
  {
   "cell_type": "code",
   "execution_count": 6,
   "outputs": [
    {
     "data": {
      "text/plain": "{'Org_Specs': 1,\n 'OrgSpecs_err': 50167,\n 'acsm_utc_time': 100333,\n 'amus': 150499,\n 'amus_txt': 150597}"
     },
     "execution_count": 6,
     "metadata": {},
     "output_type": "execute_result"
    }
   ],
   "source": [
    "itx_adapter.waves_positions"
   ],
   "metadata": {
    "collapsed": false,
    "pycharm": {
     "name": "#%%\n"
    }
   }
  },
  {
   "cell_type": "code",
   "execution_count": 7,
   "outputs": [
    {
     "data": {
      "text/plain": "array([[ 3.8642111e-01,  1.6979307e-01,  1.4804736e+00, ...,\n         2.1083698e-02,  3.6916349e-02,  2.2697266e-02],\n       [-2.2016464e-01, -1.6149672e-02, -2.8348848e-01, ...,\n         8.3613358e-03,  2.1763062e-02,  5.2501768e-04],\n       [-1.7682508e-01, -2.7505390e-02, -1.7286921e-01, ...,\n         1.5011524e-02,  4.4770386e-02,  1.3606264e-02],\n       ...,\n       [-1.1392507e-01, -6.9201277e-03, -6.4444959e-01, ...,\n         2.4837837e-02,  3.8418636e-02,  3.1152846e-02],\n       [-2.2891991e-02,  5.3279818e-04,  3.2912585e-01, ...,\n         1.2370073e-02,  2.7409840e-02,  8.1645511e-03],\n       [-9.1039032e-02,  1.8474056e-01, -1.5476558e-02, ...,\n         8.4077036e-03,  2.4472872e-02,  6.9825174e-03]])"
     },
     "execution_count": 7,
     "metadata": {},
     "output_type": "execute_result"
    }
   ],
   "source": [
    "itx_adapter.get_wave_data('Org_Specs')"
   ],
   "metadata": {
    "collapsed": false,
    "pycharm": {
     "name": "#%%\n"
    }
   }
  }
 ],
 "metadata": {
  "kernelspec": {
   "display_name": "Python 3",
   "language": "python",
   "name": "python3"
  },
  "language_info": {
   "codemirror_mode": {
    "name": "ipython",
    "version": 2
   },
   "file_extension": ".py",
   "mimetype": "text/x-python",
   "name": "python",
   "nbconvert_exporter": "python",
   "pygments_lexer": "ipython2",
   "version": "2.7.6"
  }
 },
 "nbformat": 4,
 "nbformat_minor": 0
}