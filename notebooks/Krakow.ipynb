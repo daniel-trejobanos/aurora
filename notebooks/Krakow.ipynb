{
 "cells": [
  {
   "cell_type": "markdown",
   "id": "cfad8918-011e-4c2c-949d-30bec0a6fea7",
   "metadata": {},
   "source": [
    "# Reading Krakow data\n",
    "\n",
    "The Krakow data comes in hdf5 format, each data set contains a variable. We use `h5py`to read the data into a dictionary-like data structure"
   ]
  },
  {
   "cell_type": "code",
   "execution_count": 1,
   "id": "38bf9f94-14a9-4f6d-8256-69c04ddc6b50",
   "metadata": {},
   "outputs": [],
   "source": [
    "import h5py\n",
    "import pandas as pd"
   ]
  },
  {
   "cell_type": "code",
   "execution_count": 2,
   "id": "26e1a7bc-05c6-465b-bef4-19f1e2f3559e",
   "metadata": {},
   "outputs": [],
   "source": [
    "krakov = h5py.File(\"../data/observations/Krakow_AMS_PMF_moz_data.h5\",\"r\")"
   ]
  },
  {
   "cell_type": "code",
   "execution_count": 3,
   "id": "89a13313-206d-46ba-a042-3f8cdb203527",
   "metadata": {},
   "outputs": [
    {
     "data": {
      "text/plain": [
       "['BBOA',\n",
       " 'CCOA',\n",
       " 'DateUTC',\n",
       " 'HOA',\n",
       " 'LO_OOA',\n",
       " 'MO_OOA',\n",
       " 'OOA',\n",
       " 'Org_Specs_30',\n",
       " 'Packages',\n",
       " 'S_fileName',\n",
       " 'S_path',\n",
       " 'S_waveNames',\n",
       " 'V_Flag',\n",
       " 'amus']"
      ]
     },
     "execution_count": 3,
     "metadata": {},
     "output_type": "execute_result"
    }
   ],
   "source": [
    "list(krakov.keys())"
   ]
  },
  {
   "cell_type": "code",
   "execution_count": 4,
   "id": "0679ce63-d4c0-4991-8741-2ab43524bc2b",
   "metadata": {
    "tags": []
   },
   "outputs": [
    {
     "data": {
      "text/plain": [
       "<HDF5 dataset \"BBOA\": shape (16273,), type \"<f8\">"
      ]
     },
     "execution_count": 4,
     "metadata": {},
     "output_type": "execute_result"
    }
   ],
   "source": [
    "krakov['BBOA']"
   ]
  },
  {
   "cell_type": "markdown",
   "id": "7b63b873-be8c-48e8-abd5-f48f88239b69",
   "metadata": {},
   "source": [
    "The `Org_Specs_30` dataset holds the `m/z` values coming from the mass spectometer. "
   ]
  },
  {
   "cell_type": "code",
   "execution_count": 5,
   "id": "8908b583-ec46-4067-98b8-74af990432fd",
   "metadata": {},
   "outputs": [
    {
     "data": {
      "text/plain": [
       "<HDF5 dataset \"Org_Specs_30\": shape (16286, 93), type \"<f4\">"
      ]
     },
     "execution_count": 5,
     "metadata": {},
     "output_type": "execute_result"
    }
   ],
   "source": [
    "krakov['Org_Specs_30']"
   ]
  },
  {
   "cell_type": "markdown",
   "id": "bcfa81ff-fc72-4648-8037-0dba5d5a0b8a",
   "metadata": {},
   "source": [
    "The dataset `amus`contains the `m/z`name, this can be considered as the variable name."
   ]
  },
  {
   "cell_type": "code",
   "execution_count": 6,
   "id": "efd35cb1-7a02-4490-8503-9711b5f0418d",
   "metadata": {},
   "outputs": [
    {
     "data": {
      "text/plain": [
       "<HDF5 dataset \"amus\": shape (93,), type \"<f4\">"
      ]
     },
     "execution_count": 6,
     "metadata": {},
     "output_type": "execute_result"
    }
   ],
   "source": [
    "krakov['amus']"
   ]
  },
  {
   "cell_type": "code",
   "execution_count": 7,
   "id": "18a6a21d-f2dc-428e-bc8e-30a50282097e",
   "metadata": {},
   "outputs": [
    {
     "data": {
      "text/plain": [
       "12.0"
      ]
     },
     "execution_count": 7,
     "metadata": {},
     "output_type": "execute_result"
    }
   ],
   "source": [
    "krakov['amus'][0]"
   ]
  },
  {
   "cell_type": "markdown",
   "id": "06a7e61c-1cc8-490b-bb9a-498104061525",
   "metadata": {},
   "source": [
    "We create a data frame with column names given by the `amus` data field and with rows given by the elements of the `Org_Specs_30` dataset"
   ]
  },
  {
   "cell_type": "code",
   "execution_count": 8,
   "id": "3ae20969-14bc-488a-9bd2-b3301b288bc0",
   "metadata": {
    "tags": []
   },
   "outputs": [
    {
     "data": {
      "text/html": [
       "<div>\n",
       "<style scoped>\n",
       "    .dataframe tbody tr th:only-of-type {\n",
       "        vertical-align: middle;\n",
       "    }\n",
       "\n",
       "    .dataframe tbody tr th {\n",
       "        vertical-align: top;\n",
       "    }\n",
       "\n",
       "    .dataframe thead th {\n",
       "        text-align: right;\n",
       "    }\n",
       "</style>\n",
       "<table border=\"1\" class=\"dataframe\">\n",
       "  <thead>\n",
       "    <tr style=\"text-align: right;\">\n",
       "      <th></th>\n",
       "      <th>12</th>\n",
       "      <th>13</th>\n",
       "      <th>15</th>\n",
       "      <th>16</th>\n",
       "      <th>17</th>\n",
       "      <th>18</th>\n",
       "      <th>24</th>\n",
       "      <th>25</th>\n",
       "      <th>26</th>\n",
       "      <th>27</th>\n",
       "      <th>...</th>\n",
       "      <th>111</th>\n",
       "      <th>112</th>\n",
       "      <th>113</th>\n",
       "      <th>114</th>\n",
       "      <th>115</th>\n",
       "      <th>116</th>\n",
       "      <th>117</th>\n",
       "      <th>118</th>\n",
       "      <th>119</th>\n",
       "      <th>120</th>\n",
       "    </tr>\n",
       "  </thead>\n",
       "  <tbody>\n",
       "    <tr>\n",
       "      <th>0</th>\n",
       "      <td>-0.003523</td>\n",
       "      <td>0.042046</td>\n",
       "      <td>0.341372</td>\n",
       "      <td>0.018782</td>\n",
       "      <td>0.117385</td>\n",
       "      <td>0.469542</td>\n",
       "      <td>0.004058</td>\n",
       "      <td>0.026456</td>\n",
       "      <td>0.081814</td>\n",
       "      <td>0.046262</td>\n",
       "      <td>...</td>\n",
       "      <td>0.026082</td>\n",
       "      <td>0.019182</td>\n",
       "      <td>0.021737</td>\n",
       "      <td>0.015301</td>\n",
       "      <td>0.041879</td>\n",
       "      <td>0.016196</td>\n",
       "      <td>0.027027</td>\n",
       "      <td>0.014819</td>\n",
       "      <td>0.034483</td>\n",
       "      <td>0.012276</td>\n",
       "    </tr>\n",
       "    <tr>\n",
       "      <th>1</th>\n",
       "      <td>-0.150227</td>\n",
       "      <td>-0.008195</td>\n",
       "      <td>0.022245</td>\n",
       "      <td>0.003168</td>\n",
       "      <td>0.019797</td>\n",
       "      <td>0.079189</td>\n",
       "      <td>0.000597</td>\n",
       "      <td>-0.013850</td>\n",
       "      <td>0.063849</td>\n",
       "      <td>0.084627</td>\n",
       "      <td>...</td>\n",
       "      <td>0.016773</td>\n",
       "      <td>0.021456</td>\n",
       "      <td>0.019668</td>\n",
       "      <td>0.017158</td>\n",
       "      <td>0.043933</td>\n",
       "      <td>0.014488</td>\n",
       "      <td>0.018494</td>\n",
       "      <td>0.020011</td>\n",
       "      <td>0.025490</td>\n",
       "      <td>0.019865</td>\n",
       "    </tr>\n",
       "    <tr>\n",
       "      <th>2</th>\n",
       "      <td>-0.073763</td>\n",
       "      <td>-0.012552</td>\n",
       "      <td>0.004427</td>\n",
       "      <td>0.010750</td>\n",
       "      <td>0.067189</td>\n",
       "      <td>0.268756</td>\n",
       "      <td>0.004334</td>\n",
       "      <td>0.007637</td>\n",
       "      <td>0.104142</td>\n",
       "      <td>-0.009910</td>\n",
       "      <td>...</td>\n",
       "      <td>0.023564</td>\n",
       "      <td>0.006726</td>\n",
       "      <td>0.037375</td>\n",
       "      <td>0.008389</td>\n",
       "      <td>0.036188</td>\n",
       "      <td>0.011742</td>\n",
       "      <td>0.017189</td>\n",
       "      <td>0.013873</td>\n",
       "      <td>0.039163</td>\n",
       "      <td>0.019338</td>\n",
       "    </tr>\n",
       "    <tr>\n",
       "      <th>3</th>\n",
       "      <td>-0.118308</td>\n",
       "      <td>0.038575</td>\n",
       "      <td>0.088323</td>\n",
       "      <td>0.019541</td>\n",
       "      <td>0.122133</td>\n",
       "      <td>0.488532</td>\n",
       "      <td>-0.003255</td>\n",
       "      <td>0.020286</td>\n",
       "      <td>0.061825</td>\n",
       "      <td>0.127102</td>\n",
       "      <td>...</td>\n",
       "      <td>0.019575</td>\n",
       "      <td>0.023191</td>\n",
       "      <td>0.015848</td>\n",
       "      <td>0.012163</td>\n",
       "      <td>0.043554</td>\n",
       "      <td>0.012909</td>\n",
       "      <td>0.020370</td>\n",
       "      <td>0.013007</td>\n",
       "      <td>0.028607</td>\n",
       "      <td>0.021247</td>\n",
       "    </tr>\n",
       "    <tr>\n",
       "      <th>4</th>\n",
       "      <td>-0.120782</td>\n",
       "      <td>0.000762</td>\n",
       "      <td>0.020262</td>\n",
       "      <td>0.024266</td>\n",
       "      <td>0.151665</td>\n",
       "      <td>0.606660</td>\n",
       "      <td>0.005013</td>\n",
       "      <td>0.022284</td>\n",
       "      <td>0.086115</td>\n",
       "      <td>0.168124</td>\n",
       "      <td>...</td>\n",
       "      <td>0.015858</td>\n",
       "      <td>0.010879</td>\n",
       "      <td>0.032698</td>\n",
       "      <td>0.011473</td>\n",
       "      <td>0.044271</td>\n",
       "      <td>0.017018</td>\n",
       "      <td>0.012387</td>\n",
       "      <td>0.009406</td>\n",
       "      <td>0.036408</td>\n",
       "      <td>0.017181</td>\n",
       "    </tr>\n",
       "    <tr>\n",
       "      <th>...</th>\n",
       "      <td>...</td>\n",
       "      <td>...</td>\n",
       "      <td>...</td>\n",
       "      <td>...</td>\n",
       "      <td>...</td>\n",
       "      <td>...</td>\n",
       "      <td>...</td>\n",
       "      <td>...</td>\n",
       "      <td>...</td>\n",
       "      <td>...</td>\n",
       "      <td>...</td>\n",
       "      <td>...</td>\n",
       "      <td>...</td>\n",
       "      <td>...</td>\n",
       "      <td>...</td>\n",
       "      <td>...</td>\n",
       "      <td>...</td>\n",
       "      <td>...</td>\n",
       "      <td>...</td>\n",
       "      <td>...</td>\n",
       "      <td>...</td>\n",
       "    </tr>\n",
       "    <tr>\n",
       "      <th>16281</th>\n",
       "      <td>0.027184</td>\n",
       "      <td>0.050378</td>\n",
       "      <td>0.293053</td>\n",
       "      <td>0.109473</td>\n",
       "      <td>0.684207</td>\n",
       "      <td>2.736828</td>\n",
       "      <td>0.019358</td>\n",
       "      <td>0.033263</td>\n",
       "      <td>0.118950</td>\n",
       "      <td>0.379278</td>\n",
       "      <td>...</td>\n",
       "      <td>0.022693</td>\n",
       "      <td>0.013698</td>\n",
       "      <td>0.013684</td>\n",
       "      <td>0.011438</td>\n",
       "      <td>0.042559</td>\n",
       "      <td>0.023342</td>\n",
       "      <td>0.015661</td>\n",
       "      <td>0.004957</td>\n",
       "      <td>0.032708</td>\n",
       "      <td>0.014308</td>\n",
       "    </tr>\n",
       "    <tr>\n",
       "      <th>16282</th>\n",
       "      <td>0.060938</td>\n",
       "      <td>0.090977</td>\n",
       "      <td>0.232242</td>\n",
       "      <td>0.108391</td>\n",
       "      <td>0.677442</td>\n",
       "      <td>2.709769</td>\n",
       "      <td>0.003126</td>\n",
       "      <td>0.051296</td>\n",
       "      <td>0.170406</td>\n",
       "      <td>0.410444</td>\n",
       "      <td>...</td>\n",
       "      <td>0.034125</td>\n",
       "      <td>0.013260</td>\n",
       "      <td>0.021385</td>\n",
       "      <td>0.006524</td>\n",
       "      <td>0.024382</td>\n",
       "      <td>0.006796</td>\n",
       "      <td>0.014281</td>\n",
       "      <td>0.007714</td>\n",
       "      <td>0.012998</td>\n",
       "      <td>0.024054</td>\n",
       "    </tr>\n",
       "    <tr>\n",
       "      <th>16283</th>\n",
       "      <td>-0.050615</td>\n",
       "      <td>0.038717</td>\n",
       "      <td>0.399933</td>\n",
       "      <td>0.098784</td>\n",
       "      <td>0.617403</td>\n",
       "      <td>2.469612</td>\n",
       "      <td>0.015264</td>\n",
       "      <td>0.049599</td>\n",
       "      <td>0.181920</td>\n",
       "      <td>0.611250</td>\n",
       "      <td>...</td>\n",
       "      <td>0.030354</td>\n",
       "      <td>0.011480</td>\n",
       "      <td>0.014770</td>\n",
       "      <td>0.020186</td>\n",
       "      <td>0.032451</td>\n",
       "      <td>0.002959</td>\n",
       "      <td>0.019330</td>\n",
       "      <td>0.016856</td>\n",
       "      <td>0.026634</td>\n",
       "      <td>0.018623</td>\n",
       "    </tr>\n",
       "    <tr>\n",
       "      <th>16284</th>\n",
       "      <td>-0.067085</td>\n",
       "      <td>-0.026272</td>\n",
       "      <td>0.064406</td>\n",
       "      <td>0.108196</td>\n",
       "      <td>0.676224</td>\n",
       "      <td>2.704895</td>\n",
       "      <td>0.012406</td>\n",
       "      <td>0.020887</td>\n",
       "      <td>0.193198</td>\n",
       "      <td>0.575019</td>\n",
       "      <td>...</td>\n",
       "      <td>0.027115</td>\n",
       "      <td>0.013475</td>\n",
       "      <td>0.017990</td>\n",
       "      <td>0.008151</td>\n",
       "      <td>0.032363</td>\n",
       "      <td>0.021530</td>\n",
       "      <td>0.012372</td>\n",
       "      <td>0.013851</td>\n",
       "      <td>0.030022</td>\n",
       "      <td>0.017127</td>\n",
       "    </tr>\n",
       "    <tr>\n",
       "      <th>16285</th>\n",
       "      <td>-0.091039</td>\n",
       "      <td>0.184741</td>\n",
       "      <td>-0.015477</td>\n",
       "      <td>0.094549</td>\n",
       "      <td>0.590930</td>\n",
       "      <td>2.363720</td>\n",
       "      <td>0.030440</td>\n",
       "      <td>0.006548</td>\n",
       "      <td>0.168929</td>\n",
       "      <td>0.393436</td>\n",
       "      <td>...</td>\n",
       "      <td>0.008470</td>\n",
       "      <td>0.001004</td>\n",
       "      <td>0.023044</td>\n",
       "      <td>0.008850</td>\n",
       "      <td>0.039278</td>\n",
       "      <td>0.034544</td>\n",
       "      <td>0.019169</td>\n",
       "      <td>0.008408</td>\n",
       "      <td>0.024473</td>\n",
       "      <td>0.006983</td>\n",
       "    </tr>\n",
       "  </tbody>\n",
       "</table>\n",
       "<p>16286 rows × 93 columns</p>\n",
       "</div>"
      ],
      "text/plain": [
       "             12        13        15        16        17        18        24  \\\n",
       "0     -0.003523  0.042046  0.341372  0.018782  0.117385  0.469542  0.004058   \n",
       "1     -0.150227 -0.008195  0.022245  0.003168  0.019797  0.079189  0.000597   \n",
       "2     -0.073763 -0.012552  0.004427  0.010750  0.067189  0.268756  0.004334   \n",
       "3     -0.118308  0.038575  0.088323  0.019541  0.122133  0.488532 -0.003255   \n",
       "4     -0.120782  0.000762  0.020262  0.024266  0.151665  0.606660  0.005013   \n",
       "...         ...       ...       ...       ...       ...       ...       ...   \n",
       "16281  0.027184  0.050378  0.293053  0.109473  0.684207  2.736828  0.019358   \n",
       "16282  0.060938  0.090977  0.232242  0.108391  0.677442  2.709769  0.003126   \n",
       "16283 -0.050615  0.038717  0.399933  0.098784  0.617403  2.469612  0.015264   \n",
       "16284 -0.067085 -0.026272  0.064406  0.108196  0.676224  2.704895  0.012406   \n",
       "16285 -0.091039  0.184741 -0.015477  0.094549  0.590930  2.363720  0.030440   \n",
       "\n",
       "             25        26        27  ...       111       112       113  \\\n",
       "0      0.026456  0.081814  0.046262  ...  0.026082  0.019182  0.021737   \n",
       "1     -0.013850  0.063849  0.084627  ...  0.016773  0.021456  0.019668   \n",
       "2      0.007637  0.104142 -0.009910  ...  0.023564  0.006726  0.037375   \n",
       "3      0.020286  0.061825  0.127102  ...  0.019575  0.023191  0.015848   \n",
       "4      0.022284  0.086115  0.168124  ...  0.015858  0.010879  0.032698   \n",
       "...         ...       ...       ...  ...       ...       ...       ...   \n",
       "16281  0.033263  0.118950  0.379278  ...  0.022693  0.013698  0.013684   \n",
       "16282  0.051296  0.170406  0.410444  ...  0.034125  0.013260  0.021385   \n",
       "16283  0.049599  0.181920  0.611250  ...  0.030354  0.011480  0.014770   \n",
       "16284  0.020887  0.193198  0.575019  ...  0.027115  0.013475  0.017990   \n",
       "16285  0.006548  0.168929  0.393436  ...  0.008470  0.001004  0.023044   \n",
       "\n",
       "            114       115       116       117       118       119       120  \n",
       "0      0.015301  0.041879  0.016196  0.027027  0.014819  0.034483  0.012276  \n",
       "1      0.017158  0.043933  0.014488  0.018494  0.020011  0.025490  0.019865  \n",
       "2      0.008389  0.036188  0.011742  0.017189  0.013873  0.039163  0.019338  \n",
       "3      0.012163  0.043554  0.012909  0.020370  0.013007  0.028607  0.021247  \n",
       "4      0.011473  0.044271  0.017018  0.012387  0.009406  0.036408  0.017181  \n",
       "...         ...       ...       ...       ...       ...       ...       ...  \n",
       "16281  0.011438  0.042559  0.023342  0.015661  0.004957  0.032708  0.014308  \n",
       "16282  0.006524  0.024382  0.006796  0.014281  0.007714  0.012998  0.024054  \n",
       "16283  0.020186  0.032451  0.002959  0.019330  0.016856  0.026634  0.018623  \n",
       "16284  0.008151  0.032363  0.021530  0.012372  0.013851  0.030022  0.017127  \n",
       "16285  0.008850  0.039278  0.034544  0.019169  0.008408  0.024473  0.006983  \n",
       "\n",
       "[16286 rows x 93 columns]"
      ]
     },
     "execution_count": 8,
     "metadata": {},
     "output_type": "execute_result"
    }
   ],
   "source": [
    "krakov_df = pd.DataFrame(krakov['Org_Specs_30'], columns = [str(int(amus)) for amus in krakov['amus']])\n",
    "\n",
    "krakov_df"
   ]
  },
  {
   "cell_type": "markdown",
   "id": "cdd7ddb3-b863-44a9-9bc8-624e9dd60ca1",
   "metadata": {},
   "source": [
    "## Issue with dates\n",
    "\n",
    "The dates are supposed to come in UTC format, but I am having problems converting them to the supposed start date 08.01.2018"
   ]
  },
  {
   "cell_type": "code",
   "execution_count": 9,
   "id": "a8dadd4c-a239-448e-8b9b-2d33fad75fbf",
   "metadata": {},
   "outputs": [
    {
     "data": {
      "text/plain": [
       "<HDF5 dataset \"DateUTC\": shape (16273,), type \"<f8\">"
      ]
     },
     "execution_count": 9,
     "metadata": {},
     "output_type": "execute_result"
    }
   ],
   "source": [
    "krakov['DateUTC']"
   ]
  },
  {
   "cell_type": "code",
   "execution_count": 10,
   "id": "0222491b-298a-4d3b-a634-26762da3a1a4",
   "metadata": {},
   "outputs": [
    {
     "data": {
      "text/plain": [
       "3598270200.0"
      ]
     },
     "execution_count": 10,
     "metadata": {},
     "output_type": "execute_result"
    }
   ],
   "source": [
    "krakov['DateUTC'][0]"
   ]
  },
  {
   "cell_type": "code",
   "execution_count": 11,
   "id": "10c9531e-c3cd-440c-92f1-3576eca9ce96",
   "metadata": {},
   "outputs": [
    {
     "data": {
      "text/plain": [
       "datetime.datetime(2084, 1, 9, 15, 30)"
      ]
     },
     "execution_count": 11,
     "metadata": {},
     "output_type": "execute_result"
    }
   ],
   "source": [
    "import datetime as dt\n",
    "dt.datetime.utcfromtimestamp(krakov['DateUTC'][0] )"
   ]
  },
  {
   "cell_type": "markdown",
   "id": "b19353f4-ae31-4171-83bf-b3c2e182a018",
   "metadata": {},
   "source": [
    "We also have the issue that the variables coming from the PMF have less rows than the raw data"
   ]
  },
  {
   "cell_type": "code",
   "execution_count": 12,
   "id": "46455105-25f9-48d8-9e48-780d774293ff",
   "metadata": {},
   "outputs": [
    {
     "data": {
      "text/plain": [
       "13"
      ]
     },
     "execution_count": 12,
     "metadata": {},
     "output_type": "execute_result"
    }
   ],
   "source": [
    "16286 - 16273"
   ]
  },
  {
   "cell_type": "markdown",
   "id": "f9bdc066-4ce7-4a85-9205-3cd6fc5bdad7",
   "metadata": {},
   "source": [
    "In contrast the difference betwen the first and last timestamp seems to coincide to 1.25 if each stamp corresponds to 1 sec"
   ]
  },
  {
   "cell_type": "code",
   "execution_count": 13,
   "id": "9fd06f85-bd3d-45b7-9a7c-f1d48e33881a",
   "metadata": {},
   "outputs": [
    {
     "data": {
      "text/plain": [
       "datetime.timedelta(days=456, seconds=55800)"
      ]
     },
     "execution_count": 13,
     "metadata": {},
     "output_type": "execute_result"
    }
   ],
   "source": [
    "dt.timedelta(seconds=krakov['DateUTC'][-1] -krakov['DateUTC'][0])"
   ]
  },
  {
   "cell_type": "code",
   "execution_count": 14,
   "id": "fce2937e-d9e8-448a-8ff7-f19de31dbbff",
   "metadata": {},
   "outputs": [
    {
     "data": {
      "text/plain": [
       "datetime.datetime(2019, 4, 19, 15, 30)"
      ]
     },
     "execution_count": 14,
     "metadata": {},
     "output_type": "execute_result"
    }
   ],
   "source": [
    "dt.datetime(2018,1,18) + dt.timedelta(seconds=krakov['DateUTC'][-1] -krakov['DateUTC'][0])"
   ]
  },
  {
   "cell_type": "markdown",
   "id": "c94b02a9-7ddb-46f9-95d5-e951d5ff579b",
   "metadata": {},
   "source": [
    "Which is 9 days more than what is reported in the paper (the sampling finished in 10.04.2019)"
   ]
  },
  {
   "cell_type": "markdown",
   "id": "48c38ab9-44ef-4e51-a82f-5392027918d2",
   "metadata": {},
   "source": [
    "## issue with data range\n",
    "\n",
    "If we plot value `12` we see mostly negative values, is this ok? "
   ]
  },
  {
   "cell_type": "code",
   "execution_count": 15,
   "id": "a57b154a-e4c7-486c-a01a-95ecf64713ac",
   "metadata": {},
   "outputs": [
    {
     "data": {
      "text/plain": [
       "<AxesSubplot:>"
      ]
     },
     "execution_count": 15,
     "metadata": {},
     "output_type": "execute_result"
    },
    {
     "data": {
      "image/png": "[encoded data removed]",
      "text/plain": [
       "<Figure size 432x288 with 1 Axes>"
      ]
     },
     "metadata": {
      "needs_background": "light"
     },
     "output_type": "display_data"
    }
   ],
   "source": [
    "krakov_df['12'].plot()"
   ]
  },
  {
   "cell_type": "markdown",
   "id": "74582e1e-d9ba-4932-986f-7207e844dddc",
   "metadata": {},
   "source": [
    "# LDS experiment\n",
    "\n",
    "I will try with this jax code to run a linear dynamical system with hidden states"
   ]
  },
  {
   "cell_type": "code",
   "execution_count": 16,
   "id": "b4cfd514-9790-458e-bea8-bb249dc29610",
   "metadata": {
    "scrolled": true
   },
   "outputs": [],
   "source": [
    "\n",
    "import jax.numpy as np\n",
    "import jax.random as jr\n",
    "\n",
    "import matplotlib.pyplot as plt\n",
    "from matplotlib.gridspec import GridSpec \n",
    "\n",
    "from ssm.lds.models import GaussianLDS\n",
    "from ssm.plots import plot_dynamics_2d\n"
   ]
  },
  {
   "cell_type": "code",
   "execution_count": 87,
   "id": "fab09933-1a9f-4cac-99e0-82ed27bbf442",
   "metadata": {},
   "outputs": [
    {
     "name": "stderr",
     "output_type": "stream",
     "text": [
      "WARNING:root:The use of `check_types` is deprecated and does not have any effect.\n",
      "WARNING:root:The use of `check_types` is deprecated and does not have any effect.\n",
      "WARNING:root:The use of `check_types` is deprecated and does not have any effect.\n"
     ]
    }
   ],
   "source": [
    "# define some parameters for our test_lds\n",
    "emissions_dim = 93\n",
    "latent_dim = 6\n",
    "seed = jr.PRNGKey(32)  # different random seed!\n",
    "\n",
    "# initialize our test lds model\n",
    "test_lds = GaussianLDS(num_latent_dims=latent_dim,\n",
    "                       num_emission_dims=emissions_dim,\n",
    "                       seed=seed)"
   ]
  },
  {
   "cell_type": "code",
   "execution_count": 88,
   "id": "8e451075-07e9-47b1-9f13-5955aa8e613a",
   "metadata": {},
   "outputs": [
    {
     "data": {
      "text/plain": [
       "DeviceArray([], dtype=int32)"
      ]
     },
     "execution_count": 88,
     "metadata": {},
     "output_type": "execute_result"
    }
   ],
   "source": [
    "krakov_array = np.array(krakov['Org_Specs_30'])\n",
    "krakov_array = krakov_array - np.mean(krakov_array, axis=0)\n",
    "krakov_array = krakov_array / np.std(krakov_array,axis=0)\n",
    "# krakov_array = np.expand_dims(krakov_array,axis=0)\n",
    "krakov_array.shape\n",
    "np.argwhere(np.isnan(krakov_array))"
   ]
  },
  {
   "cell_type": "code",
   "execution_count": 89,
   "id": "a64cff43-d1b0-4bd1-996a-c0a8ac6a3b3b",
   "metadata": {},
   "outputs": [
    {
     "data": {
      "application/vnd.jupyter.widget-view+json": {
       "model_id": "9d161dd413324a7f92a9225998e54af4",
       "version_major": 2,
       "version_minor": 0
      },
      "text/plain": [
       "  0%|          | 0/100 [00:00<?, ?it/s]"
      ]
     },
     "metadata": {},
     "output_type": "display_data"
    },
    {
     "name": "stderr",
     "output_type": "stream",
     "text": [
      "WARNING:root:The use of `check_types` is deprecated and does not have any effect.\n",
      "WARNING:root:The use of `check_types` is deprecated and does not have any effect.\n",
      "WARNING:root:The use of `check_types` is deprecated and does not have any effect.\n",
      "WARNING:root:The use of `check_types` is deprecated and does not have any effect.\n",
      "WARNING:root:The use of `check_types` is deprecated and does not have any effect.\n",
      "WARNING:root:The use of `check_types` is deprecated and does not have any effect.\n",
      "WARNING:root:The use of `check_types` is deprecated and does not have any effect.\n",
      "WARNING:root:The use of `check_types` is deprecated and does not have any effect.\n",
      "WARNING:root:The use of `check_types` is deprecated and does not have any effect.\n",
      "WARNING:root:The use of `check_types` is deprecated and does not have any effect.\n",
      "WARNING:root:The use of `check_types` is deprecated and does not have any effect.\n",
      "WARNING:root:The use of `check_types` is deprecated and does not have any effect.\n",
      "WARNING:root:The use of `check_types` is deprecated and does not have any effect.\n",
      "WARNING:root:The use of `check_types` is deprecated and does not have any effect.\n",
      "WARNING:root:The use of `check_types` is deprecated and does not have any effect.\n",
      "WARNING:root:The use of `check_types` is deprecated and does not have any effect.\n",
      "WARNING:root:The use of `check_types` is deprecated and does not have any effect.\n",
      "WARNING:root:The use of `check_types` is deprecated and does not have any effect.\n",
      "WARNING:root:The use of `check_types` is deprecated and does not have any effect.\n",
      "WARNING:root:The use of `check_types` is deprecated and does not have any effect.\n",
      "WARNING:root:The use of `check_types` is deprecated and does not have any effect.\n",
      "WARNING:root:The use of `check_types` is deprecated and does not have any effect.\n",
      "WARNING:root:The use of `check_types` is deprecated and does not have any effect.\n",
      "WARNING:root:The use of `check_types` is deprecated and does not have any effect.\n",
      "WARNING:root:The use of `check_types` is deprecated and does not have any effect.\n",
      "WARNING:root:The use of `check_types` is deprecated and does not have any effect.\n",
      "WARNING:root:The use of `check_types` is deprecated and does not have any effect.\n",
      "WARNING:root:The use of `check_types` is deprecated and does not have any effect.\n",
      "WARNING:root:The use of `check_types` is deprecated and does not have any effect.\n",
      "WARNING:root:The use of `check_types` is deprecated and does not have any effect.\n",
      "WARNING:root:The use of `check_types` is deprecated and does not have any effect.\n",
      "WARNING:root:The use of `check_types` is deprecated and does not have any effect.\n",
      "WARNING:root:The use of `check_types` is deprecated and does not have any effect.\n",
      "WARNING:root:The use of `check_types` is deprecated and does not have any effect.\n",
      "WARNING:root:The use of `check_types` is deprecated and does not have any effect.\n",
      "WARNING:root:The use of `check_types` is deprecated and does not have any effect.\n",
      "WARNING:root:The use of `check_types` is deprecated and does not have any effect.\n",
      "WARNING:root:The use of `check_types` is deprecated and does not have any effect.\n",
      "WARNING:root:The use of `check_types` is deprecated and does not have any effect.\n",
      "WARNING:root:The use of `check_types` is deprecated and does not have any effect.\n",
      "WARNING:root:The use of `check_types` is deprecated and does not have any effect.\n",
      "WARNING:root:The use of `check_types` is deprecated and does not have any effect.\n",
      "WARNING:root:The use of `check_types` is deprecated and does not have any effect.\n",
      "WARNING:root:The use of `check_types` is deprecated and does not have any effect.\n",
      "WARNING:root:The use of `check_types` is deprecated and does not have any effect.\n",
      "WARNING:root:The use of `check_types` is deprecated and does not have any effect.\n",
      "WARNING:root:The use of `check_types` is deprecated and does not have any effect.\n",
      "WARNING:root:The use of `check_types` is deprecated and does not have any effect.\n",
      "WARNING:root:The use of `check_types` is deprecated and does not have any effect.\n",
      "WARNING:root:The use of `check_types` is deprecated and does not have any effect.\n",
      "WARNING:root:The use of `check_types` is deprecated and does not have any effect.\n",
      "WARNING:root:The use of `check_types` is deprecated and does not have any effect.\n",
      "WARNING:root:The use of `check_types` is deprecated and does not have any effect.\n",
      "WARNING:root:The use of `check_types` is deprecated and does not have any effect.\n",
      "WARNING:root:The use of `check_types` is deprecated and does not have any effect.\n",
      "WARNING:root:The use of `check_types` is deprecated and does not have any effect.\n",
      "WARNING:root:The use of `check_types` is deprecated and does not have any effect.\n",
      "WARNING:root:The use of `check_types` is deprecated and does not have any effect.\n",
      "WARNING:root:The use of `check_types` is deprecated and does not have any effect.\n",
      "WARNING:root:The use of `check_types` is deprecated and does not have any effect.\n",
      "WARNING:root:The use of `check_types` is deprecated and does not have any effect.\n",
      "WARNING:root:The use of `check_types` is deprecated and does not have any effect.\n",
      "WARNING:root:The use of `check_types` is deprecated and does not have any effect.\n",
      "WARNING:root:The use of `check_types` is deprecated and does not have any effect.\n",
      "WARNING:root:The use of `check_types` is deprecated and does not have any effect.\n",
      "WARNING:root:The use of `check_types` is deprecated and does not have any effect.\n",
      "WARNING:root:The use of `check_types` is deprecated and does not have any effect.\n",
      "WARNING:root:The use of `check_types` is deprecated and does not have any effect.\n",
      "WARNING:root:The use of `check_types` is deprecated and does not have any effect.\n",
      "WARNING:root:The use of `check_types` is deprecated and does not have any effect.\n",
      "WARNING:root:The use of `check_types` is deprecated and does not have any effect.\n",
      "WARNING:root:The use of `check_types` is deprecated and does not have any effect.\n",
      "WARNING:root:The use of `check_types` is deprecated and does not have any effect.\n",
      "WARNING:root:The use of `check_types` is deprecated and does not have any effect.\n",
      "WARNING:root:The use of `check_types` is deprecated and does not have any effect.\n",
      "WARNING:root:The use of `check_types` is deprecated and does not have any effect.\n",
      "WARNING:root:The use of `check_types` is deprecated and does not have any effect.\n",
      "WARNING:root:The use of `check_types` is deprecated and does not have any effect.\n",
      "WARNING:root:The use of `check_types` is deprecated and does not have any effect.\n",
      "WARNING:root:The use of `check_types` is deprecated and does not have any effect.\n",
      "WARNING:root:The use of `check_types` is deprecated and does not have any effect.\n",
      "WARNING:root:The use of `check_types` is deprecated and does not have any effect.\n",
      "WARNING:root:The use of `check_types` is deprecated and does not have any effect.\n",
      "WARNING:root:The use of `check_types` is deprecated and does not have any effect.\n",
      "WARNING:root:The use of `check_types` is deprecated and does not have any effect.\n",
      "WARNING:root:The use of `check_types` is deprecated and does not have any effect.\n",
      "WARNING:root:The use of `check_types` is deprecated and does not have any effect.\n",
      "WARNING:root:The use of `check_types` is deprecated and does not have any effect.\n",
      "WARNING:root:The use of `check_types` is deprecated and does not have any effect.\n",
      "WARNING:root:The use of `check_types` is deprecated and does not have any effect.\n",
      "WARNING:root:The use of `check_types` is deprecated and does not have any effect.\n",
      "WARNING:root:The use of `check_types` is deprecated and does not have any effect.\n",
      "WARNING:root:The use of `check_types` is deprecated and does not have any effect.\n",
      "WARNING:root:The use of `check_types` is deprecated and does not have any effect.\n",
      "WARNING:root:The use of `check_types` is deprecated and does not have any effect.\n",
      "WARNING:root:The use of `check_types` is deprecated and does not have any effect.\n",
      "WARNING:root:The use of `check_types` is deprecated and does not have any effect.\n",
      "WARNING:root:The use of `check_types` is deprecated and does not have any effect.\n",
      "WARNING:root:The use of `check_types` is deprecated and does not have any effect.\n",
      "WARNING:root:The use of `check_types` is deprecated and does not have any effect.\n",
      "WARNING:root:The use of `check_types` is deprecated and does not have any effect.\n",
      "WARNING:root:The use of `check_types` is deprecated and does not have any effect.\n",
      "WARNING:root:The use of `check_types` is deprecated and does not have any effect.\n",
      "WARNING:root:The use of `check_types` is deprecated and does not have any effect.\n",
      "WARNING:root:The use of `check_types` is deprecated and does not have any effect.\n",
      "WARNING:root:The use of `check_types` is deprecated and does not have any effect.\n",
      "WARNING:root:The use of `check_types` is deprecated and does not have any effect.\n",
      "WARNING:root:The use of `check_types` is deprecated and does not have any effect.\n",
      "WARNING:root:The use of `check_types` is deprecated and does not have any effect.\n",
      "WARNING:root:The use of `check_types` is deprecated and does not have any effect.\n",
      "WARNING:root:The use of `check_types` is deprecated and does not have any effect.\n",
      "WARNING:root:The use of `check_types` is deprecated and does not have any effect.\n",
      "WARNING:root:The use of `check_types` is deprecated and does not have any effect.\n",
      "WARNING:root:The use of `check_types` is deprecated and does not have any effect.\n"
     ]
    },
    {
     "ename": "AssertionError",
     "evalue": "NaNs in marginal log probability",
     "output_type": "error",
     "traceback": [
      "\u001b[0;31m---------------------------------------------------------------------------\u001b[0m",
      "\u001b[0;31mAssertionError\u001b[0m                            Traceback (most recent call last)",
      "Input \u001b[0;32mIn [89]\u001b[0m, in \u001b[0;36m<cell line: 4>\u001b[0;34m()\u001b[0m\n\u001b[1;32m      2\u001b[0m warnings\u001b[38;5;241m.\u001b[39mfilterwarnings(\u001b[38;5;124m'\u001b[39m\u001b[38;5;124mignore\u001b[39m\u001b[38;5;124m'\u001b[39m)\n\u001b[1;32m      3\u001b[0m warnings\u001b[38;5;241m.\u001b[39msimplefilter(\u001b[38;5;124m'\u001b[39m\u001b[38;5;124mignore\u001b[39m\u001b[38;5;124m'\u001b[39m)\n\u001b[0;32m----> 4\u001b[0m lps, fitted_lds, posteriors \u001b[38;5;241m=\u001b[39m \u001b[43mtest_lds\u001b[49m\u001b[38;5;241;43m.\u001b[39;49m\u001b[43mfit\u001b[49m\u001b[43m(\u001b[49m\u001b[43mkrakov_array\u001b[49m\u001b[43m,\u001b[49m\u001b[43m \u001b[49m\u001b[43mmethod\u001b[49m\u001b[38;5;241;43m=\u001b[39;49m\u001b[38;5;124;43m\"\u001b[39;49m\u001b[38;5;124;43mem\u001b[39;49m\u001b[38;5;124;43m\"\u001b[39;49m\u001b[43m,\u001b[49m\u001b[43mkey\u001b[49m\u001b[38;5;241;43m=\u001b[39;49m\u001b[43mseed\u001b[49m\u001b[43m)\u001b[49m\n",
      "File \u001b[0;32m~/git/ssm-jax/ssm/utils.py:254\u001b[0m, in \u001b[0;36mensure_has_batch_dim.<locals>.ensure_has_batch_dim_decorator.<locals>.wrapper\u001b[0;34m(*args, **kwargs)\u001b[0m\n\u001b[1;32m    250\u001b[0m         \u001b[38;5;28;01mif\u001b[39;00m key \u001b[38;5;129;01min\u001b[39;00m bound_args\u001b[38;5;241m.\u001b[39marguments \u001b[38;5;129;01mand\u001b[39;00m bound_args\u001b[38;5;241m.\u001b[39marguments[key] \u001b[38;5;129;01mis\u001b[39;00m \u001b[38;5;129;01mnot\u001b[39;00m \u001b[38;5;28;01mNone\u001b[39;00m:\n\u001b[1;32m    251\u001b[0m             bound_args\u001b[38;5;241m.\u001b[39marguments[key] \u001b[38;5;241m=\u001b[39m \\\n\u001b[1;32m    252\u001b[0m                 tree_map(\u001b[38;5;28;01mlambda\u001b[39;00m x: x[\u001b[38;5;28;01mNone\u001b[39;00m, \u001b[38;5;241m.\u001b[39m\u001b[38;5;241m.\u001b[39m\u001b[38;5;241m.\u001b[39m], bound_args\u001b[38;5;241m.\u001b[39marguments[key])\n\u001b[0;32m--> 254\u001b[0m \u001b[38;5;28;01mreturn\u001b[39;00m \u001b[43mf\u001b[49m\u001b[43m(\u001b[49m\u001b[38;5;241;43m*\u001b[39;49m\u001b[38;5;241;43m*\u001b[39;49m\u001b[43mbound_args\u001b[49m\u001b[38;5;241;43m.\u001b[39;49m\u001b[43marguments\u001b[49m\u001b[43m)\u001b[49m\n",
      "File \u001b[0;32m~/git/ssm-jax/ssm/lds/models.py:246\u001b[0m, in \u001b[0;36mGaussianLDS.fit\u001b[0;34m(self, data, covariates, metadata, method, key, num_iters, tol, verbosity)\u001b[0m\n\u001b[1;32m    243\u001b[0m kwargs \u001b[38;5;241m=\u001b[39m \u001b[38;5;28mdict\u001b[39m(num_iters\u001b[38;5;241m=\u001b[39mnum_iters, tol\u001b[38;5;241m=\u001b[39mtol, verbosity\u001b[38;5;241m=\u001b[39mverbosity)\n\u001b[1;32m    245\u001b[0m \u001b[38;5;28;01mif\u001b[39;00m method \u001b[38;5;241m==\u001b[39m \u001b[38;5;124m\"\u001b[39m\u001b[38;5;124mem\u001b[39m\u001b[38;5;124m\"\u001b[39m:\n\u001b[0;32m--> 246\u001b[0m     elbos, lds, posteriors \u001b[38;5;241m=\u001b[39m \u001b[43mem\u001b[49m\u001b[43m(\u001b[49m\u001b[43mmodel\u001b[49m\u001b[43m,\u001b[49m\u001b[43m \u001b[49m\u001b[43mdata\u001b[49m\u001b[43m,\u001b[49m\u001b[43m \u001b[49m\u001b[38;5;241;43m*\u001b[39;49m\u001b[38;5;241;43m*\u001b[39;49m\u001b[43mkwargs\u001b[49m\u001b[43m)\u001b[49m\n\u001b[1;32m    247\u001b[0m \u001b[38;5;28;01melif\u001b[39;00m method \u001b[38;5;241m==\u001b[39m \u001b[38;5;124m\"\u001b[39m\u001b[38;5;124mlaplace_em\u001b[39m\u001b[38;5;124m\"\u001b[39m:\n\u001b[1;32m    248\u001b[0m     \u001b[38;5;28;01mif\u001b[39;00m key \u001b[38;5;129;01mis\u001b[39;00m \u001b[38;5;28;01mNone\u001b[39;00m:\n",
      "File \u001b[0;32m~/git/ssm-jax/ssm/utils.py:254\u001b[0m, in \u001b[0;36mensure_has_batch_dim.<locals>.ensure_has_batch_dim_decorator.<locals>.wrapper\u001b[0;34m(*args, **kwargs)\u001b[0m\n\u001b[1;32m    250\u001b[0m         \u001b[38;5;28;01mif\u001b[39;00m key \u001b[38;5;129;01min\u001b[39;00m bound_args\u001b[38;5;241m.\u001b[39marguments \u001b[38;5;129;01mand\u001b[39;00m bound_args\u001b[38;5;241m.\u001b[39marguments[key] \u001b[38;5;129;01mis\u001b[39;00m \u001b[38;5;129;01mnot\u001b[39;00m \u001b[38;5;28;01mNone\u001b[39;00m:\n\u001b[1;32m    251\u001b[0m             bound_args\u001b[38;5;241m.\u001b[39marguments[key] \u001b[38;5;241m=\u001b[39m \\\n\u001b[1;32m    252\u001b[0m                 tree_map(\u001b[38;5;28;01mlambda\u001b[39;00m x: x[\u001b[38;5;28;01mNone\u001b[39;00m, \u001b[38;5;241m.\u001b[39m\u001b[38;5;241m.\u001b[39m\u001b[38;5;241m.\u001b[39m], bound_args\u001b[38;5;241m.\u001b[39marguments[key])\n\u001b[0;32m--> 254\u001b[0m \u001b[38;5;28;01mreturn\u001b[39;00m \u001b[43mf\u001b[49m\u001b[43m(\u001b[49m\u001b[38;5;241;43m*\u001b[39;49m\u001b[38;5;241;43m*\u001b[39;49m\u001b[43mbound_args\u001b[49m\u001b[38;5;241;43m.\u001b[39;49m\u001b[43marguments\u001b[49m\u001b[43m)\u001b[49m\n",
      "File \u001b[0;32m~/git/ssm-jax/ssm/inference/em.py:60\u001b[0m, in \u001b[0;36mem\u001b[0;34m(model, data, covariates, metadata, num_iters, tol, verbosity)\u001b[0m\n\u001b[1;32m     58\u001b[0m \u001b[38;5;28;01mfor\u001b[39;00m itr \u001b[38;5;129;01min\u001b[39;00m pbar:\n\u001b[1;32m     59\u001b[0m     model, posterior, lp \u001b[38;5;241m=\u001b[39m update(model)\n\u001b[0;32m---> 60\u001b[0m     \u001b[38;5;28;01massert\u001b[39;00m np\u001b[38;5;241m.\u001b[39misfinite(lp), \u001b[38;5;124m\"\u001b[39m\u001b[38;5;124mNaNs in marginal log probability\u001b[39m\u001b[38;5;124m\"\u001b[39m\n\u001b[1;32m     62\u001b[0m     log_probs\u001b[38;5;241m.\u001b[39mappend(lp)\n\u001b[1;32m     63\u001b[0m     \u001b[38;5;28;01mif\u001b[39;00m verbosity \u001b[38;5;241m>\u001b[39m Verbosity\u001b[38;5;241m.\u001b[39mOFF:\n",
      "\u001b[0;31mAssertionError\u001b[0m: NaNs in marginal log probability"
     ]
    }
   ],
   "source": [
    "import warnings\n",
    "warnings.filterwarnings('ignore')\n",
    "warnings.simplefilter('ignore')\n",
    "lps, fitted_lds, posteriors = test_lds.fit(krakov_array, method=\"em\",key=seed)"
   ]
  },
  {
   "cell_type": "code",
   "execution_count": 85,
   "id": "48f78c84",
   "metadata": {},
   "outputs": [
    {
     "data": {
      "text/plain": [
       "(16286, 2)"
      ]
     },
     "execution_count": 85,
     "metadata": {},
     "output_type": "execute_result"
    }
   ],
   "source": [
    "posteriors.mean()[0].shape"
   ]
  },
  {
   "cell_type": "code",
   "execution_count": 86,
   "id": "39e85993-8702-4eb4-b807-e8a8b35f3c2d",
   "metadata": {},
   "outputs": [
    {
     "data": {
      "text/plain": [
       "DeviceArray([[nan, nan],\n",
       "             [nan, nan],\n",
       "             [nan, nan],\n",
       "             ...,\n",
       "             [nan, nan],\n",
       "             [nan, nan],\n",
       "             [nan, nan]], dtype=float32)"
      ]
     },
     "execution_count": 86,
     "metadata": {},
     "output_type": "execute_result"
    }
   ],
   "source": [
    "import matplotlib.pyplot as plt\n",
    "posteriors.mean()[0]"
   ]
  },
  {
   "cell_type": "markdown",
   "id": "88c94d5e-911f-473d-87bc-cf5117e90218",
   "metadata": {},
   "source": [
    "Thus it is challenging out of the box, I could try some more robust implementations."
   ]
  }
 ],
 "metadata": {
  "kernelspec": {
   "display_name": "Python 3 (ipykernel)",
   "language": "python",
   "name": "python3"
  },
  "language_info": {
   "codemirror_mode": {
    "name": "ipython",
    "version": 3
   },
   "file_extension": ".py",
   "mimetype": "text/x-python",
   "name": "python",
   "nbconvert_exporter": "python",
   "pygments_lexer": "ipython3",
   "version": "3.9.12"
  }
 },
 "nbformat": 4,
 "nbformat_minor": 5
}
