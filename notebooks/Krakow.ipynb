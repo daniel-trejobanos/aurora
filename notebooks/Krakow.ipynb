{
 "cells": [
  {
   "cell_type": "code",
   "execution_count": null,
   "id": "08ee4372-3413-4faa-82cb-c10a040ce8b1",
   "metadata": {},
   "outputs": [],
   "source": [
    "import h5py"
   ]
  },
  {
   "cell_type": "code",
   "execution_count": null,
   "id": "26e1a7bc-05c6-465b-bef4-19f1e2f3559e",
   "metadata": {},
   "outputs": [],
   "source": [
    "krakov = h5py.File(\"../data/observations/Krakow_AMS_PMF_moz_data.h5\",\"r\")"
   ]
  },
  {
   "cell_type": "code",
   "execution_count": null,
   "id": "89a13313-206d-46ba-a042-3f8cdb203527",
   "metadata": {},
   "outputs": [],
   "source": [
    "list(krakov.keys())"
   ]
  },
  {
   "cell_type": "raw",
   "id": "526c2e2c-e98d-40ed-953a-1ddd7b1734ca",
   "metadata": {},
   "source": [
    "krakov"
   ]
  },
  {
   "cell_type": "code",
   "execution_count": null,
   "id": "e1cf38c3-df83-4258-ae3f-895d2689b627",
   "metadata": {},
   "outputs": [],
   "source": [
    "krakov"
   ]
  },
  {
   "cell_type": "code",
   "execution_count": null,
   "id": "0679ce63-d4c0-4991-8741-2ab43524bc2b",
   "metadata": {},
   "outputs": [],
   "source": [
    "krakov['BBOA']"
   ]
  },
  {
   "cell_type": "code",
   "execution_count": null,
   "id": "35353a51-2bc0-464b-aeaf-39921f208778",
   "metadata": {},
   "outputs": [],
   "source": [
    "import numpy as np\n",
    "np.array(krakov['BBOA'])"
   ]
  },
  {
   "cell_type": "code",
   "execution_count": null,
   "id": "8908b583-ec46-4067-98b8-74af990432fd",
   "metadata": {},
   "outputs": [],
   "source": [
    "krakov['Org_Specs_30']"
   ]
  },
  {
   "cell_type": "code",
   "execution_count": null,
   "id": "efd35cb1-7a02-4490-8503-9711b5f0418d",
   "metadata": {},
   "outputs": [],
   "source": [
    "krakov['amus']"
   ]
  },
  {
   "cell_type": "code",
   "execution_count": null,
   "id": "18a6a21d-f2dc-428e-bc8e-30a50282097e",
   "metadata": {},
   "outputs": [],
   "source": [
    "krakov['amus'][0]"
   ]
  },
  {
   "cell_type": "code",
   "execution_count": null,
   "id": "35028d1d-8502-42bb-8f7b-160a1b32221b",
   "metadata": {},
   "outputs": [],
   "source": [
    "krakov['S_waveNames']"
   ]
  },
  {
   "cell_type": "code",
   "execution_count": null,
   "id": "d30f6848-c583-4b28-9aec-2a1d373b0fea",
   "metadata": {},
   "outputs": [],
   "source": [
    "krakov['V_Flag']"
   ]
  },
  {
   "cell_type": "code",
   "execution_count": null,
   "id": "12509676-9c21-4d88-837f-67a354d69ae9",
   "metadata": {},
   "outputs": [],
   "source": [
    "krakov['CCOA']"
   ]
  },
  {
   "cell_type": "code",
   "execution_count": null,
   "id": "e20fb254-00ac-45b2-8f62-b68d80261a23",
   "metadata": {},
   "outputs": [],
   "source": [
    "import pandas as pd\n",
    "krakov_df = pd.DataFrame(krakov['Org_Specs_30'], columns = [str(int(amus)) for amus in krakov['amus']])"
   ]
  },
  {
   "cell_type": "code",
   "execution_count": null,
   "id": "fa7ae79c-4680-4518-bff1-c263c79d2fbe",
   "metadata": {},
   "outputs": [],
   "source": [
    "krakov_df"
   ]
  },
  {
   "cell_type": "code",
   "execution_count": null,
   "id": "a8dadd4c-a239-448e-8b9b-2d33fad75fbf",
   "metadata": {},
   "outputs": [],
   "source": [
    "krakov['DateUTC']"
   ]
  },
  {
   "cell_type": "code",
   "execution_count": null,
   "id": "0222491b-298a-4d3b-a634-26762da3a1a4",
   "metadata": {},
   "outputs": [],
   "source": [
    "krakov['DateUTC'][0]"
   ]
  },
  {
   "cell_type": "code",
   "execution_count": null,
   "id": "10c9531e-c3cd-440c-92f1-3576eca9ce96",
   "metadata": {},
   "outputs": [],
   "source": [
    "import datetime as dt\n",
    "dt.datetime.utcfromtimestamp(krakov['DateUTC'][0] )"
   ]
  },
  {
   "cell_type": "code",
   "execution_count": null,
   "id": "a57b154a-e4c7-486c-a01a-95ecf64713ac",
   "metadata": {},
   "outputs": [],
   "source": [
    "krakov_df['12'].plot()"
   ]
  },
  {
   "cell_type": "code",
   "execution_count": null,
   "id": "9fd06f85-bd3d-45b7-9a7c-f1d48e33881a",
   "metadata": {},
   "outputs": [],
   "source": [
    "krakov['DateUTC'][-1] -krakov['DateUTC'][0]"
   ]
  },
  {
   "cell_type": "code",
   "execution_count": null,
   "id": "9e392632-58c4-4775-8abf-3baaf06009b9",
   "metadata": {},
   "outputs": [],
   "source": [
    "16286 % 7"
   ]
  },
  {
   "cell_type": "code",
   "execution_count": null,
   "id": "46455105-25f9-48d8-9e48-780d774293ff",
   "metadata": {},
   "outputs": [],
   "source": [
    "16286 - 16273"
   ]
  },
  {
   "cell_type": "code",
   "execution_count": null,
   "id": "b4cfd514-9790-458e-bea8-bb249dc29610",
   "metadata": {
    "scrolled": true
   },
   "outputs": [],
   "source": [
    "\n"
   ]
  },
  {
   "cell_type": "code",
   "execution_count": null,
   "id": "fab09933-1a9f-4cac-99e0-82ed27bbf442",
   "metadata": {},
   "outputs": [],
   "source": []
  },
  {
   "cell_type": "code",
   "execution_count": null,
   "id": "05c77f4a",
   "metadata": {},
   "outputs": [],
   "source": []
  },
  {
   "cell_type": "code",
   "execution_count": null,
   "id": "48f78c84",
   "metadata": {},
   "outputs": [],
   "source": [
    "import jaxlib"
   ]
  },
  {
   "cell_type": "code",
   "execution_count": null,
   "id": "2ae9012c",
   "metadata": {},
   "outputs": [],
   "source": []
  }
 ],
 "metadata": {
  "kernelspec": {
   "display_name": "Python 3 (ipykernel)",
   "language": "python",
   "name": "python3"
  },
  "language_info": {
   "codemirror_mode": {
    "name": "ipython",
    "version": 3
   },
   "file_extension": ".py",
   "mimetype": "text/x-python",
   "name": "python",
   "nbconvert_exporter": "python",
   "pygments_lexer": "ipython3",
   "version": "3.9.12"
  }
 },
 "nbformat": 4,
 "nbformat_minor": 5
}
