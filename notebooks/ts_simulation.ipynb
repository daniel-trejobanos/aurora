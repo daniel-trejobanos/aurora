{
 "cells": [
  {
   "cell_type": "markdown",
   "id": "c2a18a38",
   "metadata": {
    "collapsed": false
   },
   "source": [
    "We simulate a simple time series using an ARMA process"
   ]
  },
  {
   "cell_type": "code",
   "execution_count": null,
   "id": "c5241b08",
   "metadata": {},
   "outputs": [],
   "source": [
    "from statsmodels.tsa.arima_process import ArmaProcess\n",
    "import matplotlib.pyplot as plt\n",
    "import numpy as np\n",
    "\n",
    "np.random.seed(12354)\n",
    "arparams = np.array([.75, -.25])\n",
    "maparams = np.array([.65, .35])\n",
    "ar1 = np.r_[1, -arparams] # add zero-lag and negate\n",
    "ma1 = np.r_[1, maparams] # add zero-lag\n",
    "AR_object1 = ArmaProcess(ar1, ma1)\n",
    "simulated_data_1 = AR_object1.generate_sample(nsample=1000)\n",
    "plt.plot(simulated_data_1)\n"
   ]
  },
  {
   "cell_type": "markdown",
   "id": "93d322d1",
   "metadata": {
    "collapsed": false
   },
   "source": [
    "Now we fill our matrix F of latent factor time series"
   ]
  },
  {
   "cell_type": "code",
   "execution_count": null,
   "id": "2e1529e3",
   "metadata": {},
   "outputs": [],
   "source": [
    "\n",
    "F = np.zeros((1000,10))\n",
    "for i in range(0,10):\n",
    "    F[:,i] =  AR_object1.generate_sample(nsample=1000).T"
   ]
  },
  {
   "cell_type": "markdown",
   "id": "fc879691",
   "metadata": {
    "collapsed": false
   },
   "source": [
    "We translate all the elements so that there are no negative entries"
   ]
  },
  {
   "cell_type": "code",
   "execution_count": null,
   "id": "5239bd66",
   "metadata": {},
   "outputs": [],
   "source": [
    "F = F - np.min(F)\n",
    "plt.plot(F[:,0])"
   ]
  },
  {
   "cell_type": "markdown",
   "id": "11f99a77",
   "metadata": {
    "collapsed": false
   },
   "source": [
    "We create our factor loading matrix"
   ]
  },
  {
   "cell_type": "code",
   "execution_count": null,
   "id": "f5b99efe",
   "metadata": {},
   "outputs": [],
   "source": [
    "M = np.random.rand(10,1000)\n",
    "M"
   ]
  },
  {
   "cell_type": "markdown",
   "id": "ef5bd7d2",
   "metadata": {
    "collapsed": false
   },
   "source": [
    "We create our clean data given as FxM"
   ]
  },
  {
   "cell_type": "code",
   "execution_count": null,
   "id": "9dc57568",
   "metadata": {},
   "outputs": [],
   "source": [
    "G=np.matmul(F,M)\n",
    "plt.plot(G[:,0])"
   ]
  },
  {
   "cell_type": "markdown",
   "id": "b86e7475",
   "metadata": {
    "collapsed": false
   },
   "source": [
    "We add normal i.i.d noise to each entry of the matrix"
   ]
  },
  {
   "cell_type": "code",
   "execution_count": null,
   "id": "9e8dba35",
   "metadata": {},
   "outputs": [],
   "source": [
    "E = np.random.normal(loc=0, scale=1, size=(1000,1000))"
   ]
  },
  {
   "cell_type": "code",
   "execution_count": null,
   "id": "9e6723e9",
   "metadata": {},
   "outputs": [],
   "source": [
    "data = G + E\n"
   ]
  },
  {
   "cell_type": "code",
   "execution_count": null,
   "id": "40df17ab",
   "metadata": {},
   "outputs": [],
   "source": [
    "np.min(np.min(data))"
   ]
  },
  {
   "cell_type": "code",
   "execution_count": null,
   "id": "c5f9e560",
   "metadata": {},
   "outputs": [],
   "source": [
    "plt.plot(data[:,0])"
   ]
  },
  {
   "cell_type": "code",
   "execution_count": null,
   "id": "538519ad",
   "metadata": {},
   "outputs": [],
   "source": [
    "import pandas as pd\n",
    "data_df = pd.DataFrame(columns = ['C_' + str(idx) for idx in range(0,1000)],data=data)"
   ]
  },
  {
   "cell_type": "code",
   "execution_count": null,
   "id": "1856b986",
   "metadata": {},
   "outputs": [],
   "source": [
    "data_df"
   ]
  },
  {
   "cell_type": "code",
   "execution_count": null,
   "id": "5cef38c4",
   "metadata": {},
   "outputs": [],
   "source": [
    "data_df.to_csv('../sim/data/ar1.csv', index=False)"
   ]
  },
  {
   "cell_type": "code",
   "execution_count": null,
   "id": "398b1617",
   "metadata": {},
   "outputs": [],
   "source": [
    "data_df['C_0'].plot()"
   ]
  }
 ],
 "metadata": {
  "kernelspec": {
   "argv": [
    "/Users/Daniel/opt/anaconda3/bin/python",
    "-m",
    "ipykernel_launcher",
    "-f",
    "{connection_file}"
   ],
   "display_name": "Python 3 (ipykernel)",
   "env": null,
   "interrupt_mode": "signal",
   "language": "python",
   "metadata": {
    "debugger": true
   },
   "name": "python3"
  },
  "language_info": {
   "codemirror_mode": {
    "name": "ipython",
    "version": 3
   },
   "file_extension": ".py",
   "mimetype": "text/x-python",
   "name": "python",
   "nbconvert_exporter": "python",
   "pygments_lexer": "ipython3",
   "version": "3.9.12"
  },
  "name": "ts_simulation.ipynb"
 },
 "nbformat": 4,
 "nbformat_minor": 5
}
