{
 "cells": [
  {
   "cell_type": "code",
   "execution_count": null,
   "metadata": {},
   "outputs": [],
   "source": [
    "%load_ext autoreload\n",
    "%autoreload 2\n",
    "%matplotlib inline"
   ]
  },
  {
   "cell_type": "code",
   "execution_count": null,
   "metadata": {
    "pycharm": {
     "name": "#%%\n"
    }
   },
   "outputs": [],
   "source": [
    "from auroraPSI.itx_adapter import ItxAdapter\n",
    "import pandas as pd\n",
    "import numpy as np\n",
    "import matplotlib.pyplot as plt"
   ]
  },
  {
   "cell_type": "markdown",
   "metadata": {},
   "source": [
    "## Data loading"
   ]
  },
  {
   "cell_type": "markdown",
   "metadata": {},
   "source": [
    "We load the original Krakow data in format itx, we resample at different resolutions"
   ]
  },
  {
   "cell_type": "code",
   "execution_count": null,
   "metadata": {
    "pycharm": {
     "name": "#%%\n"
    }
   },
   "outputs": [],
   "source": [
    "itx_adapter = ItxAdapter.read_file(\"../data/observations/KRK_input_10min.itx\")\n",
    "\n",
    "krakow_dict = itx_adapter.to_pandas()\n",
    "# krakow_df = pd.concat([krakow_dict['data'], krakow_dict['errors']])\n",
    "krakow_df = krakow_dict['data']\n"
   ]
  },
  {
   "cell_type": "code",
   "execution_count": null,
   "metadata": {
    "pycharm": {
     "name": "#%%\n"
    }
   },
   "outputs": [],
   "source": [
    "krakow_df.drop(['12.0','37.0'],axis=1,inplace=True)\n",
    "\n",
    "krakow_df_10min = krakow_df.resample(\"10min\").mean()\n",
    "krakow_df_30min = krakow_df.resample(\"30min\").mean()\n",
    "krakow_df_1h = krakow_df.resample(\"1H\").mean()\n",
    "krakow_df_1d = krakow_df.resample(\"1D\").mean()\n",
    "krakow_df_1d"
   ]
  },
  {
   "cell_type": "code",
   "execution_count": null,
   "metadata": {},
   "outputs": [],
   "source": [
    "errors = krakow_dict['errors']\n",
    "errors.drop(['12.0_err','37.0_err'],axis=1,inplace=True)\n",
    "errors_10min = errors.resample(\"10min\").mean()\n",
    "values = krakow_df_10min['41.0']\n",
    "X = krakow_df_10min.values[~np.isnan(values)]\n",
    "X = X\n",
    "E = errors_10min.values[~np.isnan(values)]"
   ]
  },
  {
   "cell_type": "code",
   "execution_count": null,
   "metadata": {},
   "outputs": [],
   "source": [
    "nt, nx = X.shape # time, compounds\n",
    "k = 10 #sources 10 to 20\n",
    "\n",
    "nt, nx"
   ]
  },
  {
   "cell_type": "markdown",
   "metadata": {},
   "source": [
    "# Define some functions"
   ]
  },
  {
   "cell_type": "code",
   "execution_count": null,
   "metadata": {},
   "outputs": [],
   "source": [
    "from auroraPSI.NMFEstimator import NMFEstimator"
   ]
  },
  {
   "cell_type": "code",
   "execution_count": null,
   "metadata": {},
   "outputs": [],
   "source": [
    "from auroraPSI.nmf_updates import create_laplacian_matrix\n",
    "L = create_laplacian_matrix(10).todense()\n",
    "# np.linalg.eigvals(L)\n",
    "# L"
   ]
  },
  {
   "cell_type": "code",
   "execution_count": null,
   "metadata": {},
   "outputs": [],
   "source": [
    "\n",
    "plt.imshow(X[:200])\n",
    "plt.colorbar()\n",
    "np.min(X)"
   ]
  },
  {
   "cell_type": "code",
   "execution_count": null,
   "metadata": {},
   "outputs": [],
   "source": [
    "plt.imshow(X[:200]<0)"
   ]
  },
  {
   "cell_type": "code",
   "execution_count": null,
   "metadata": {},
   "outputs": [],
   "source": [
    "\n",
    "est = NMFEstimator(n_components=k\n",
    "             , init='random', tol=1e-4, max_iter=200,\n",
    "                 random_state=None, verbose=1, debug=True, lambda_L=0,\n",
    "                shift=shift, eval_print=10, force_simplex=True)"
   ]
  },
  {
   "cell_type": "code",
   "execution_count": null,
   "metadata": {},
   "outputs": [],
   "source": [
    "Xnew = X.copy()\n",
    "Xnew[X<0] = 0\n",
    "est.fit(Xnew)"
   ]
  },
  {
   "cell_type": "code",
   "execution_count": null,
   "metadata": {},
   "outputs": [],
   "source": [
    "F = est.F_\n",
    "G = est.G_\n",
    "loss = est.get_losses()"
   ]
  },
  {
   "cell_type": "code",
   "execution_count": null,
   "metadata": {},
   "outputs": [],
   "source": [
    "np.sum(G, axis=0)"
   ]
  },
  {
   "cell_type": "code",
   "execution_count": null,
   "metadata": {},
   "outputs": [],
   "source": [
    "import re\n",
    "mark_space = 20\n",
    "fontsize = 15\n",
    "marker_list = [\"-o\",\"-s\",\"->\",\"-<\",\"-^\",\"-v\",\"-d\"]\n",
    "\n",
    "\n",
    "fig, axes = plt.subplots(1, 2, figsize=(15, 5))\n",
    "\n",
    "names = list(loss.dtype.names)\n",
    "for j,name in enumerate(names) :\n",
    "    if re.match(r\".*(loss)\",name) : \n",
    "        axes[0].plot(loss[name],marker_list[j%len(marker_list)],markersize=3.5,label = name,markevery = mark_space,linewidth = 2)\n",
    "        axes[0].set_yscale(\"log\")\n",
    "        axes[0].legend()\n",
    "        axes[0].set_xlabel(\"number of iterations\")\n",
    "    elif re.match(r\"^(rel)\",name) : \n",
    "        axes[1].plot(loss[name],marker_list[j%len(marker_list)],markersize=3.5,label = name,markevery = mark_space,linewidth = 2)\n",
    "        axes[1].legend()\n",
    "        axes[1].set_xlabel(\"number of iterations\")\n",
    "    # elif re.match(r\"^(ang)\",name) :\n",
    "    #     axes[2].plot(loss[name],marker_list[j%len(marker_list)],markersize=3.5,label = name,markevery = mark_space,linewidth = 2)\n",
    "    #     axes[2].legend()\n",
    "    #     axes[2].set_xlabel(\"number of iterations\")\n",
    "    # elif re.match(r\"^(mse)\",name) :\n",
    "    #     axes[3].plot(loss[name],marker_list[j%len(marker_list)],markersize=3.5,label = name,markevery = mark_space,linewidth = 2)\n",
    "    #     axes[3].legend()\n",
    "    #     axes[3].set_xlabel(\"number of iterations\")\n",
    "\n",
    "cols = [\"Losses\", \"Evolution of A and P\",\"Angles\",\"MSE\"]\n",
    "\n",
    "for ax, col in zip(axes, cols):\n",
    "    ax.set_title(col, fontsize=fontsize)\n",
    "\n",
    "fig.tight_layout()"
   ]
  },
  {
   "cell_type": "code",
   "execution_count": null,
   "metadata": {},
   "outputs": [],
   "source": [
    "plt.plot(F);"
   ]
  },
  {
   "cell_type": "code",
   "execution_count": null,
   "metadata": {},
   "outputs": [],
   "source": [
    "plt.imshow(G)\n",
    "plt.colorbar()"
   ]
  },
  {
   "cell_type": "code",
   "execution_count": null,
   "metadata": {},
   "outputs": [],
   "source": []
  }
 ],
 "metadata": {
  "interpreter": {
   "hash": "c3595a144e2725957a34b98bbe5f9ab9d89d56d08f171010103952858f181e49"
  },
  "kernelspec": {
   "display_name": "Python 3.9.1 ('aurora-qeRysJBD')",
   "language": "python",
   "name": "python3"
  },
  "language_info": {
   "codemirror_mode": {
    "name": "ipython",
    "version": 3
   },
   "file_extension": ".py",
   "mimetype": "text/x-python",
   "name": "python",
   "nbconvert_exporter": "python",
   "pygments_lexer": "ipython3",
   "version": "3.9.1"
  }
 },
 "nbformat": 4,
 "nbformat_minor": 1
}
