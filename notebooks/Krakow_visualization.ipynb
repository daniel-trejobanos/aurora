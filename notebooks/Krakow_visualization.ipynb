{
 "cells": [
  {
   "cell_type": "code",
   "execution_count": null,
   "metadata": {
    "pycharm": {
     "name": "#%%\n"
    }
   },
   "outputs": [],
   "source": [
    "from auroraPSI.itx_adapter import ItxAdapter\n",
    "from auroraPSI.pandas_plotter_adapter import PlotterAdapter\n",
    "import pandas as pd"
   ]
  },
  {
   "cell_type": "markdown",
   "metadata": {},
   "source": [
    "## Data loading"
   ]
  },
  {
   "cell_type": "markdown",
   "metadata": {},
   "source": [
    "We load the original Krakow data in format itx, we resample at different resolutions"
   ]
  },
  {
   "cell_type": "code",
   "execution_count": null,
   "metadata": {
    "pycharm": {
     "name": "#%%\n"
    }
   },
   "outputs": [],
   "source": [
    "itx_adapter = ItxAdapter.read_file(\"../data/observations/KRK_input_10min.itx\")\n",
    "\n",
    "krakow_dict = itx_adapter.to_pandas()\n",
    "krakow_df = pd.concat([krakow_dict['data'], krakow_dict['errors']])\n"
   ]
  },
  {
   "cell_type": "code",
   "execution_count": null,
   "metadata": {
    "pycharm": {
     "name": "#%%\n"
    }
   },
   "outputs": [],
   "source": [
    "krakow_df.drop(['12.0','37.0','12.0_err','37.0_err'],axis=1,inplace=True)\n",
    "\n",
    "krakow_df_10min = krakow_df.resample(\"10min\").mean()\n",
    "krakow_df_30min = krakow_df.resample(\"30min\").mean()\n",
    "krakow_df_1h = krakow_df.resample(\"1H\").mean()\n",
    "krakow_df_1d = krakow_df.resample(\"1D\").mean()\n",
    "krakow_df_1d"
   ]
  },
  {
   "cell_type": "code",
   "execution_count": null,
   "metadata": {
    "pycharm": {
     "name": "#%%\n"
    }
   },
   "outputs": [],
   "source": [
    "plotter = PlotterAdapter(krakow_df_10min)\n",
    "plotter.scatter_plot()"
   ]
  },
  {
   "cell_type": "code",
   "execution_count": null,
   "metadata": {},
   "outputs": [],
   "source": [
    "plotter.date_plot()"
   ]
  },
  {
   "cell_type": "code",
   "execution_count": null,
   "metadata": {},
   "outputs": [],
   "source": [
    "plotter.histogram_plot()"
   ]
  },
  {
   "cell_type": "code",
   "execution_count": null,
   "metadata": {},
   "outputs": [],
   "source": [
    "plotter.all_plot()"
   ]
  },
  {
   "cell_type": "code",
   "execution_count": null,
   "metadata": {},
   "outputs": [],
   "source": [
    "plotter.all_error_plot()"
   ]
  },
  {
   "cell_type": "code",
   "execution_count": null,
   "metadata": {},
   "outputs": [],
   "source": [
    "import scipy.signal as signal\n",
    "import numpy as np\n",
    "times = krakow_df_10min.index.values.astype(float)\n",
    "values = krakow_df_10min['41.0']\n",
    "times = times[~np.isnan(values)]\n",
    "values = values[~np.isnan(values)]\n",
    "w= np.linspace(0.001, 60, krakow_df_10min.shape[0])\n",
    "pgram = signal.lombscargle(times,values, w)"
   ]
  },
  {
   "cell_type": "code",
   "execution_count": null,
   "metadata": {},
   "outputs": [],
   "source": [
    "import matplotlib.pyplot as plt\n",
    "fig, (ax_t, ax_w) = plt.subplots(2, 1, constrained_layout=True)\n",
    "ax_t.plot(times, values, 'b+')\n",
    "ax_t.set_xlabel('Time [s]')\n",
    "ax_w.plot(w, pgram)\n",
    "ax_w.set_xlabel('Angular frequency [rad/s]')\n",
    "ax_w.set_ylabel('Normalized amplitude')\n",
    "plt.show()"
   ]
  }
 ],
 "metadata": {
  "kernelspec": {
   "display_name": "Python 3 (ipykernel)",
   "language": "python",
   "name": "python3"
  },
  "language_info": {
   "codemirror_mode": {
    "name": "ipython",
    "version": 3
   },
   "file_extension": ".py",
   "mimetype": "text/x-python",
   "name": "python",
   "nbconvert_exporter": "python",
   "pygments_lexer": "ipython3",
   "version": "3.9.12"
  }
 },
 "nbformat": 4,
 "nbformat_minor": 1
}
